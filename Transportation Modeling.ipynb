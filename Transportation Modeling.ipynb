{
 "cells": [
  {
   "cell_type": "code",
   "execution_count": 1,
   "metadata": {},
   "outputs": [],
   "source": [
    "from pyspark.sql import SparkSession\n",
    "spark = SparkSession.builder.enableHiveSupport().appName('Rideshare').getOrCreate()\n",
    "sc = spark.sparkContext"
   ]
  },
  {
   "cell_type": "code",
   "execution_count": 2,
   "metadata": {},
   "outputs": [],
   "source": [
    "conf = spark.sparkContext._conf.setAll([('spark.executor.memory', '4g'), ('spark.app.name', 'Spark Updated Conf'), ('spark.executor.cores', '4'), ('spark.cores.max', '4'), ('spark.driver.memory','4g')])"
   ]
  },
  {
   "cell_type": "code",
   "execution_count": 3,
   "metadata": {},
   "outputs": [
    {
     "data": {
      "text/plain": [
       "[('spark.eventLog.enabled', 'true'),\n",
       " ('spark.yarn.jars',\n",
       "  'local:/opt/cloudera/parcels/CDH-6.3.0-1.cdh6.3.0.p0.1279813/lib/spark/jars/*,local:/opt/cloudera/parcels/CDH-6.3.0-1.cdh6.3.0.p0.1279813/lib/spark/hive/*'),\n",
       " ('spark.yarn.appMasterEnv.MKL_NUM_THREADS', '1'),\n",
       " ('spark.sql.queryExecutionListeners',\n",
       "  'com.cloudera.spark.lineage.NavigatorQueryListener'),\n",
       " ('spark.lineage.log.dir', '/var/log/spark/lineage'),\n",
       " ('spark.org.apache.hadoop.yarn.server.webproxy.amfilter.AmIpFilter.param.PROXY_HOSTS',\n",
       "  'md01.rcc.local,md02.rcc.local'),\n",
       " ('spark.serializer', 'org.apache.spark.serializer.KryoSerializer'),\n",
       " ('spark.executorEnv.PYTHONPATH',\n",
       "  '/opt/cloudera/parcels/CDH/lib/spark/python/lib/py4j-0.10.7-src.zip:/opt/cloudera/parcels/CDH/lib/spark/python/lib/pyspark.zip<CPS>/opt/cloudera/parcels/CDH-6.3.0-1.cdh6.3.0.p0.1279813/lib/spark/python/lib/py4j-0.10.7-src.zip<CPS>/opt/cloudera/parcels/CDH-6.3.0-1.cdh6.3.0.p0.1279813/lib/spark/python/lib/pyspark.zip'),\n",
       " ('spark.yarn.historyServer.address', 'http://hd01.rcc.local:18088'),\n",
       " ('spark.ui.filters',\n",
       "  'org.apache.hadoop.yarn.server.webproxy.amfilter.AmIpFilter'),\n",
       " ('spark.network.crypto.enabled', 'false'),\n",
       " ('spark.executorEnv.MKL_NUM_THREADS', '1'),\n",
       " ('spark.executor.memory', '4g'),\n",
       " ('spark.ui.enabled', 'true'),\n",
       " ('spark.executor.id', 'driver'),\n",
       " ('spark.executor.extraLibraryPath',\n",
       "  '/opt/cloudera/parcels/CDH-6.3.0-1.cdh6.3.0.p0.1279813/lib/hadoop/lib/native'),\n",
       " ('spark.dynamicAllocation.schedulerBacklogTimeout', '1'),\n",
       " ('spark.yarn.config.gatewayPath', '/opt/cloudera/parcels'),\n",
       " ('spark.extraListeners', 'com.cloudera.spark.lineage.NavigatorAppListener'),\n",
       " ('spark.ui.proxyBase', '/proxy/application_1577383759214_11262'),\n",
       " ('spark.port.maxRetries', '60'),\n",
       " ('spark.sql.warehouse.dir', '/user/hive/warehouse'),\n",
       " ('spark.app.name', 'Spark Updated Conf'),\n",
       " ('spark.sql.catalogImplementation', 'hive'),\n",
       " ('spark.driver.log.persistToDfs.enabled', 'true'),\n",
       " ('spark.yarn.config.replacementPath', '{{HADOOP_COMMON_HOME}}/../../..'),\n",
       " ('spark.executorEnv.OPENBLAS_NUM_THREADS', '1'),\n",
       " ('spark.driver.extraLibraryPath',\n",
       "  '/opt/cloudera/parcels/CDH-6.3.0-1.cdh6.3.0.p0.1279813/lib/hadoop/lib/native'),\n",
       " ('spark.driver.memory', '4g'),\n",
       " ('spark.ui.killEnabled', 'true'),\n",
       " ('spark.cores.max', '4'),\n",
       " ('spark.eventLog.dir', 'hdfs://nameservice1/user/spark/applicationHistory'),\n",
       " ('spark.dynamicAllocation.executorIdleTimeout', '60'),\n",
       " ('spark.executor.cores', '4'),\n",
       " ('spark.io.encryption.enabled', 'false'),\n",
       " ('spark.authenticate', 'false'),\n",
       " ('spark.driver.appUIAddress', 'http://md01.rcc.local:4044'),\n",
       " ('spark.driver.port', '44060'),\n",
       " ('spark.serializer.objectStreamReset', '100'),\n",
       " ('spark.submit.deployMode', 'client'),\n",
       " ('spark.org.apache.hadoop.yarn.server.webproxy.amfilter.AmIpFilter.param.RM_HA_URLS',\n",
       "  'md01.rcc.local:8088,md02.rcc.local:8088'),\n",
       " ('spark.shuffle.service.enabled', 'true'),\n",
       " ('spark.yarn.historyServer.allowTracking', 'true'),\n",
       " ('spark.yarn.appMasterEnv.OPENBLAS_NUM_THREADS', '1'),\n",
       " ('spark.shuffle.service.port', '7337'),\n",
       " ('spark.app.id', 'application_1577383759214_11262'),\n",
       " ('spark.lineage.enabled', 'true'),\n",
       " ('spark.master', 'yarn'),\n",
       " ('spark.driver.host', 'md01.rcc.local'),\n",
       " ('spark.rdd.compress', 'True'),\n",
       " ('spark.yarn.am.extraLibraryPath',\n",
       "  '/opt/cloudera/parcels/CDH-6.3.0-1.cdh6.3.0.p0.1279813/lib/hadoop/lib/native'),\n",
       " ('spark.dynamicAllocation.minExecutors', '0'),\n",
       " ('spark.yarn.isPython', 'true'),\n",
       " ('spark.dynamicAllocation.enabled', 'true'),\n",
       " ('spark.ui.showConsoleProgress', 'true'),\n",
       " ('spark.org.apache.hadoop.yarn.server.webproxy.amfilter.AmIpFilter.param.PROXY_URI_BASES',\n",
       "  'http://md01.rcc.local:8088/proxy/application_1577383759214_11262,http://md02.rcc.local:8088/proxy/application_1577383759214_11262'),\n",
       " ('spark.driver.log.dfsDir', '/user/spark/driverLogs')]"
      ]
     },
     "execution_count": 3,
     "metadata": {},
     "output_type": "execute_result"
    }
   ],
   "source": [
    "spark.sparkContext.getConf().getAll()"
   ]
  },
  {
   "cell_type": "code",
   "execution_count": 4,
   "metadata": {},
   "outputs": [
    {
     "name": "stdout",
     "output_type": "stream",
     "text": [
      "++\n",
      "||\n",
      "++\n",
      "++\n",
      "\n"
     ]
    }
   ],
   "source": [
    "spark.sql('use trasley').show()"
   ]
  },
  {
   "cell_type": "code",
   "execution_count": 5,
   "metadata": {},
   "outputs": [],
   "source": [
    "rideshares = spark.read.csv(\"/user/trasley/data/rideshare.csv\", inferSchema=True, header=True)"
   ]
  },
  {
   "cell_type": "code",
   "execution_count": 6,
   "metadata": {},
   "outputs": [
    {
     "name": "stdout",
     "output_type": "stream",
     "text": [
      "+--------------------+--------------------+--------------------+-------+-----+------------+-------------+----------------+-----------------+----+---+-----------+-----+-----------+------------+-------------------+--------------------+--------------------+--------------------+---------------------+--------------------+\n",
      "|             trip_id|          start_time|            end_time|seconds|miles|pickup_tract|dropoff_tract|pickup_comm_area|dropoff_comm_area|fare|tip|add_charges|total|shared_auth|trips_pooled|pickup_lat_centroid|pickup_long_centroid| pickup_loc_centroid|dropoff_lat_centroid|dropoff_long_centroid|dropoff_loc_centroid|\n",
      "+--------------------+--------------------+--------------------+-------+-----+------------+-------------+----------------+-----------------+----+---+-----------+-----+-----------+------------+-------------------+--------------------+--------------------+--------------------+---------------------+--------------------+\n",
      "|6e22fde8d26ed1363...|05/27/2019 11:30:...|05/27/2019 11:45:...|    728|  3.7|        null|         null|              24|                5| 7.5|  0|       2.55|10.05|      false|           1|      41.9012069941|      -87.6763559892|POINT (-87.676355...|       41.9477915865|       -87.6838349425|POINT (-87.683834...|\n",
      "|6e22fe44c471241c0...|06/11/2019 10:45:...|06/11/2019 11:15:...|   1706| 12.0| 17031842300|  17031411200|              24|               41|20.0|  0|       2.55|22.55|      false|           1|      41.8983058696|      -87.6536139825|POINT (-87.653613...|       41.7905666284|       -87.5940154442|POINT (-87.594015...|\n",
      "|6e22ffc00ed997604...|04/28/2019 11:15:...|04/28/2019 11:45:...|   2438| 23.9|        null|  17031980000|            null|               76|32.5|  0|       9.25|41.75|      false|           1|               null|                null|                null|       41.9790708201|       -87.9030396611|POINT (-87.903039...|\n",
      "|6e23001dc69639584...|04/18/2019 02:30:...|04/18/2019 03:15:...|   2569| 12.4| 17031081201|         null|               8|             null|25.0|  0|       2.55|27.55|      false|           1|      41.8991556134|      -87.6262105324|POINT (-87.626210...|                null|                 null|                null|\n",
      "|6e23008d0a34bd62c...|06/14/2019 06:30:...|06/14/2019 06:45:...|   1101|  7.0|        null|  17031283100|            null|               28|12.5|  0|       2.55|15.05|      false|           1|               null|                null|                null|       41.8692744531|       -87.6640472412|POINT (-87.664047...|\n",
      "|6e23011643a6dbfd3...|04/27/2019 05:45:...|04/27/2019 06:00:...|    824|  2.7| 17031841900|  17031081403|              28|                8| 7.5|  5|       2.55|15.05|      false|           1|      41.8679024175|      -87.6429586652|POINT (-87.642958...|       41.8909220259|       -87.6188683546|POINT (-87.618868...|\n",
      "|6e2301b77e5907a41...|04/11/2019 07:15:...|04/11/2019 07:30:...|    639|  2.0| 17031081403|  17031838300|               8|                8| 7.5|  0|       2.55|10.05|      false|           1|      41.8909220259|      -87.6188683546|POINT (-87.618868...|       41.9015669095|       -87.6384040116|POINT (-87.638404...|\n",
      "|6e23024d1a4de1249...|06/06/2019 04:00:...|06/06/2019 04:30:...|   1251|  3.0|        null|         null|               8|               28| 7.5|  0|        0.0|  7.5|       true|           3|       41.899602111|      -87.6333080367|POINT (-87.633308...|        41.874005383|       -87.6635175498|POINT (-87.663517...|\n",
      "|6e2302d66f77b705c...|04/18/2019 09:00:...|04/18/2019 09:30:...|   1840| 10.2| 17031040700|  17031839000|               4|               32|17.5|  0|       2.55|20.05|      false|           1|      41.9668063463|      -87.6940200973|POINT (-87.694020...|       41.8710158803|       -87.6314065252|POINT (-87.631406...|\n",
      "|6e2302e2a66c576f7...|06/13/2019 05:00:...|06/13/2019 05:15:...|    322|  0.5| 17031320100|  17031839100|              32|               32| 7.5|  3|       2.55|13.05|      false|           1|      41.8849871918|      -87.6209929134|POINT (-87.620992...|       41.8809944707|       -87.6327464887|POINT (-87.632746...|\n",
      "+--------------------+--------------------+--------------------+-------+-----+------------+-------------+----------------+-----------------+----+---+-----------+-----+-----------+------------+-------------------+--------------------+--------------------+--------------------+---------------------+--------------------+\n",
      "only showing top 10 rows\n",
      "\n"
     ]
    }
   ],
   "source": [
    "rideshares = rideshares.withColumnRenamed(\"Trip ID\", \"trip_id\")\\\n",
    "    .withColumnRenamed(\"Trip Start Timestamp\",\"start_time\")\\\n",
    "    .withColumnRenamed(\"Trip End Timestamp\",\"end_time\")\\\n",
    "    .withColumnRenamed(\"Trip Seconds\",\"seconds\")\\\n",
    "    .withColumnRenamed(\"Trip Miles\",\"miles\")\\\n",
    "    .withColumnRenamed(\"Pickup Census Tract\",\"pickup_tract\")\\\n",
    "    .withColumnRenamed(\"Dropoff Census Tract\",\"dropoff_tract\")\\\n",
    "    .withColumnRenamed(\"Pickup Community Area\",\"pickup_comm_area\")\\\n",
    "    .withColumnRenamed(\"Dropoff Community Area\",\"dropoff_comm_area\")\\\n",
    "    .withColumnRenamed(\"Fare\",\"fare\")\\\n",
    "    .withColumnRenamed(\"Tip\",\"tip\")\\\n",
    "    .withColumnRenamed(\"Additional Charges\",\"add_charges\")\\\n",
    "    .withColumnRenamed(\"Trip Total\",\"total\")\\\n",
    "    .withColumnRenamed(\"Shared Trip Authorized\",\"shared_auth\")\\\n",
    "    .withColumnRenamed(\"Trips Pooled\",\"trips_pooled\")\\\n",
    "    .withColumnRenamed(\"Pickup Centroid Latitude\",\"pickup_lat_centroid\")\\\n",
    "    .withColumnRenamed(\"Pickup Centroid Longitude\",\"pickup_long_centroid\")\\\n",
    "    .withColumnRenamed(\"Pickup Centroid Location\",\"pickup_loc_centroid\")\\\n",
    "    .withColumnRenamed(\"Dropoff Centroid Latitude\",\"dropoff_lat_centroid\")\\\n",
    "    .withColumnRenamed(\"Dropoff Centroid Longitude\",\"dropoff_long_centroid\")\\\n",
    "    .withColumnRenamed(\"Dropoff Centroid Location\",\"dropoff_loc_centroid\")\n",
    "rideshares.show(10)"
   ]
  },
  {
   "cell_type": "code",
   "execution_count": 7,
   "metadata": {},
   "outputs": [],
   "source": [
    "from pyspark.sql.types import StringType,IntegerType,DateType,TimestampType\n",
    "from pyspark.sql.functions import to_timestamp,from_unixtime,unix_timestamp\n",
    "\n",
    "rideshares=rideshares.withColumn('start_time',from_unixtime(unix_timestamp('start_time', 'MM/dd/yyyy hh:mm:ss a')).cast(TimestampType())).withColumn('end_time',from_unixtime(unix_timestamp('start_time', 'MM/dd/yyyy hh:mm:ss a')).cast(TimestampType()))"
   ]
  },
  {
   "cell_type": "code",
   "execution_count": 8,
   "metadata": {},
   "outputs": [
    {
     "data": {
      "text/plain": [
       "158532812"
      ]
     },
     "execution_count": 8,
     "metadata": {},
     "output_type": "execute_result"
    }
   ],
   "source": [
    "#Limit date range for consistency across datasets\n",
    "date_from='2018-11-01'\n",
    "date_to='2020-06-30'\n",
    "rideshares=rideshares.filter((rideshares.start_time>=date_from) & (rideshares.start_time<=date_to))\n",
    "rideshares.count()"
   ]
  },
  {
   "cell_type": "code",
   "execution_count": 9,
   "metadata": {},
   "outputs": [],
   "source": [
    "#Only keep rides that are not pooled rides - no similar concept for taxis\n",
    "rideshares=rideshares.filter(rideshares.shared_auth==False)"
   ]
  },
  {
   "cell_type": "code",
   "execution_count": 10,
   "metadata": {},
   "outputs": [
    {
     "name": "stdout",
     "output_type": "stream",
     "text": [
      "+-------+----------+--------+-------+-----+------------+-------------+----------------+-----------------+----+---+-----------+-----+-----------+------------+-------------------+--------------------+-------------------+--------------------+---------------------+--------------------+\n",
      "|trip_id|start_time|end_time|seconds|miles|pickup_tract|dropoff_tract|pickup_comm_area|dropoff_comm_area|fare|tip|add_charges|total|shared_auth|trips_pooled|pickup_lat_centroid|pickup_long_centroid|pickup_loc_centroid|dropoff_lat_centroid|dropoff_long_centroid|dropoff_loc_centroid|\n",
      "+-------+----------+--------+-------+-----+------------+-------------+----------------+-----------------+----+---+-----------+-----+-----------+------------+-------------------+--------------------+-------------------+--------------------+---------------------+--------------------+\n",
      "|      0|         0|       0| 171431| 4048|    35656511|     36176349|         8098147|          9021455| 101| 23|        101|  101|          0|           0|            7988793|             7988793|            7988793|             8913615|              8913615|             8913615|\n",
      "+-------+----------+--------+-------+-----+------------+-------------+----------------+-----------------+----+---+-----------+-----+-----------+------------+-------------------+--------------------+-------------------+--------------------+---------------------+--------------------+\n",
      "\n"
     ]
    }
   ],
   "source": [
    "from pyspark.sql.functions import when, count, col\n",
    "\n",
    "#Show fields with null values\n",
    "rideshares.select([count(when(col(i).isNull(), i)).alias(i) for i in rideshares.columns]).show()"
   ]
  },
  {
   "cell_type": "code",
   "execution_count": 11,
   "metadata": {},
   "outputs": [],
   "source": [
    "#Drop rows where required fields are null - need them to accurately capture ride\n",
    "rideshares=rideshares.dropna(subset=['pickup_comm_area', 'dropoff_comm_area','seconds','end_time','miles','fare'])"
   ]
  },
  {
   "cell_type": "code",
   "execution_count": 12,
   "metadata": {},
   "outputs": [],
   "source": [
    "from pyspark.sql.functions import year,month,hour,minute,second\n",
    "\n",
    "#rideshares.filter(col('seconds').isNull() & (hour(col(\"end_time\"))-hour(col(\"start_time\"))>=1)).count()\n",
    "rideshares=rideshares.filter(~(col('seconds').isNull() & (hour(col(\"end_time\"))-hour(col(\"start_time\"))>=1)))"
   ]
  },
  {
   "cell_type": "code",
   "execution_count": 13,
   "metadata": {},
   "outputs": [
    {
     "name": "stdout",
     "output_type": "stream",
     "text": [
      "+-------+----------+--------+-------+-----+------------+-------------+----------------+-----------------+----+---+-----------+-----+-----------+------------+-------------------+--------------------+-------------------+--------------------+---------------------+--------------------+\n",
      "|trip_id|start_time|end_time|seconds|miles|pickup_tract|dropoff_tract|pickup_comm_area|dropoff_comm_area|fare|tip|add_charges|total|shared_auth|trips_pooled|pickup_lat_centroid|pickup_long_centroid|pickup_loc_centroid|dropoff_lat_centroid|dropoff_long_centroid|dropoff_loc_centroid|\n",
      "+-------+----------+--------+-------+-----+------------+-------------+----------------+-----------------+----+---+-----------+-----+-----------+------------+-------------------+--------------------+-------------------+--------------------+---------------------+--------------------+\n",
      "|      0|         0|       0|      0|    0|    24596026|     24596026|               0|                0|   0|  0|          0|    0|          0|           0|                  0|                   0|                  0|                   0|                    0|                   0|\n",
      "+-------+----------+--------+-------+-----+------------+-------------+----------------+-----------------+----+---+-----------+-----+-----------+------------+-------------------+--------------------+-------------------+--------------------+---------------------+--------------------+\n",
      "\n"
     ]
    }
   ],
   "source": [
    "rideshares.select([count(when(col(i).isNull(), i)).alias(i) for i in rideshares.columns]).show()"
   ]
  },
  {
   "cell_type": "code",
   "execution_count": 14,
   "metadata": {},
   "outputs": [],
   "source": [
    "from pyspark.sql.functions import date_format\n",
    "from pyspark.sql.functions import col\n",
    "\n",
    "#break out year, month, day of week, and hour that ride starts to be used as categorical features\n",
    "\n",
    "rideshares=rideshares.withColumn('year',year(\"start_time\")).withColumn('month',month(\"start_time\")) \\\n",
    "            .withColumn('hour',hour(\"start_time\")).withColumn(\"week_day\", date_format(col(\"start_time\"), \"EEEE\"))"
   ]
  },
  {
   "cell_type": "code",
   "execution_count": 15,
   "metadata": {
    "scrolled": true
   },
   "outputs": [],
   "source": [
    "from pyspark.sql import functions as F\n",
    "from pyspark.ml.feature import StringIndexer\n",
    "\n",
    "\n",
    "#bin hours in to 2 hour increments to be used as categories\n",
    "\n",
    "rideshares=rideshares.withColumn('hourbin',F.floor((F.col('hour')/2)).cast('string'))"
   ]
  },
  {
   "cell_type": "markdown",
   "metadata": {},
   "source": [
    "from pyspark.ml.feature import QuantileDiscretizer\n",
    "\n",
    "discretizer = QuantileDiscretizer(numBuckets=12, inputCol=\"hour\", outputCol=\"hour_bucket\")\n",
    "\n",
    "result = discretizer.fit(rideshares).transform(rideshares)\n",
    "result.show()"
   ]
  },
  {
   "cell_type": "markdown",
   "metadata": {},
   "source": [
    "droplist=['trip_id',\\ #not meaningful\n",
    "          'start_time'\\ #broken out into categorical features\n",
    "          ,'end_time'\\ #using start time\n",
    "          ,'tip'\\ #not dependent on ride but rider\n",
    "          ,'add_charges'\\ #not dependent on ride but rider\n",
    "          ,'total'\\ #includes tip, additional charges\n",
    "          ,'shared_auth'\\ #no comparable process for taxi\n",
    "          ,'trips_pooled'\\ #no comparable process for taxi\n",
    "          ,'pickup_lat_centroid','pickup_long_centroid', 'dropoff_lat_centroid'\\ #community area is proxy\n",
    "          ,'dropoff_long_centroid','pickup_loc_centroid','dropoff_loc_centroid'\\ ##community area is proxy\n",
    "          ,'pickup_tract','dropoff_tract'\\ #not as meaningful as community area\n",
    "          ,'hour'\\ #binned\n",
    "          ,'seconds' #highly correlated to fare - proxy for output\n",
    "         ]\n",
    "rideshares=rideshares.drop(*droplist)\n"
   ]
  },
  {
   "cell_type": "code",
   "execution_count": 16,
   "metadata": {},
   "outputs": [],
   "source": [
    "droplist=['trip_id','start_time','end_time','tip','add_charges','total','shared_auth','trips_pooled','pickup_lat_centroid','pickup_long_centroid', 'dropoff_lat_centroid','dropoff_long_centroid','pickup_loc_centroid','dropoff_loc_centroid','pickup_tract','dropoff_tract','hour','seconds']\n",
    "rideshares=rideshares.drop(*droplist)\n"
   ]
  },
  {
   "cell_type": "code",
   "execution_count": 17,
   "metadata": {},
   "outputs": [
    {
     "name": "stdout",
     "output_type": "stream",
     "text": [
      "+-----+----------------+-----------------+----+----+-----+--------+-------+\n",
      "|miles|pickup_comm_area|dropoff_comm_area|fare|year|month|week_day|hourbin|\n",
      "+-----+----------------+-----------------+----+----+-----+--------+-------+\n",
      "|  3.7|              24|                5| 7.5|2019|    5|  Monday|     11|\n",
      "| 12.0|              24|               41|20.0|2019|    6| Tuesday|     11|\n",
      "|  2.7|              28|                8| 7.5|2019|    4|Saturday|      8|\n",
      "|  2.0|               8|                8| 7.5|2019|    4|Thursday|      9|\n",
      "| 10.2|               4|               32|17.5|2019|    4|Thursday|      4|\n",
      "|  0.5|              32|               32| 7.5|2019|    6|Thursday|      8|\n",
      "|  6.0|               6|               32|35.0|2019|    6|Saturday|      7|\n",
      "|  1.0|              28|               28| 2.5|2019|    4|  Friday|      3|\n",
      "|  1.3|               8|                8| 5.0|2019|    6|  Friday|     10|\n",
      "|  2.6|               6|                7|12.5|2019|    4|Saturday|      8|\n",
      "|  4.1|               8|                6|17.5|2019|    4|Thursday|      8|\n",
      "|  6.6|               3|                8|25.0|2019|    4|  Friday|      7|\n",
      "|  6.9|              77|               24|15.0|2019|    6|Saturday|      1|\n",
      "|  1.9|               8|                7| 5.0|2019|    5|  Friday|     11|\n",
      "|  2.4|              17|               10| 5.0|2019|    5|Thursday|      7|\n",
      "|  2.0|               7|               24| 5.0|2019|    5|  Friday|     11|\n",
      "|  0.9|               8|                8| 5.0|2019|    4| Tuesday|      8|\n",
      "| 11.5|              32|               56|25.0|2019|    6|  Friday|      2|\n",
      "|  7.4|              25|               28|12.5|2019|    6|  Sunday|      6|\n",
      "|  3.4|              24|               21| 7.5|2019|    6|  Friday|     11|\n",
      "+-----+----------------+-----------------+----+----+-----+--------+-------+\n",
      "only showing top 20 rows\n",
      "\n"
     ]
    }
   ],
   "source": [
    "rideshares.show()"
   ]
  },
  {
   "cell_type": "code",
   "execution_count": 18,
   "metadata": {
    "scrolled": true
   },
   "outputs": [
    {
     "name": "stdout",
     "output_type": "stream",
     "text": [
      "+-----+----------------+-----------------+----+----+-----+--------+-------+---------------+----------------+--------+-------+--------+---------+--------------+----------------+-------------+---------------+--------------+-------------+\n",
      "|miles|pickup_comm_area|dropoff_comm_area|fare|year|month|week_day|hourbin|pickup_comm_Idx|dropoff_comm_Idx|hour_Idx|day_Idx|year_Idx|month_Idx|     month_Vec|dropoff_comm_Vec|     year_Vec|pickup_comm_Vec|      hour_Vec|      day_Vec|\n",
      "+-----+----------------+-----------------+----+----+-----+--------+-------+---------------+----------------+--------+-------+--------+---------+--------------+----------------+-------------+---------------+--------------+-------------+\n",
      "|  3.7|              24|                5| 7.5|2019|    5|  Monday|     11|            4.0|            12.0|     3.0|    6.0|     0.0|      6.0|(11,[6],[1.0])| (76,[12],[1.0])|(2,[0],[1.0])| (76,[4],[1.0])|(11,[3],[1.0])|    (6,[],[])|\n",
      "| 12.0|              24|               41|20.0|2019|    6| Tuesday|     11|            4.0|            11.0|     3.0|    5.0|     0.0|      5.0|(11,[5],[1.0])| (76,[11],[1.0])|(2,[0],[1.0])| (76,[4],[1.0])|(11,[3],[1.0])|(6,[5],[1.0])|\n",
      "|  2.7|              28|                8| 7.5|2019|    4|Saturday|      8|            2.0|             0.0|     1.0|    0.0|     0.0|      7.0|(11,[7],[1.0])|  (76,[0],[1.0])|(2,[0],[1.0])| (76,[2],[1.0])|(11,[1],[1.0])|(6,[0],[1.0])|\n",
      "|  2.0|               8|                8| 7.5|2019|    4|Thursday|      9|            0.0|             0.0|     0.0|    2.0|     0.0|      7.0|(11,[7],[1.0])|  (76,[0],[1.0])|(2,[0],[1.0])| (76,[0],[1.0])|(11,[0],[1.0])|(6,[2],[1.0])|\n",
      "| 10.2|               4|               32|17.5|2019|    4|Thursday|      4|           15.0|             1.0|     4.0|    2.0|     0.0|      7.0|(11,[7],[1.0])|  (76,[1],[1.0])|(2,[0],[1.0])|(76,[15],[1.0])|(11,[4],[1.0])|(6,[2],[1.0])|\n",
      "+-----+----------------+-----------------+----+----+-----+--------+-------+---------------+----------------+--------+-------+--------+---------+--------------+----------------+-------------+---------------+--------------+-------------+\n",
      "only showing top 5 rows\n",
      "\n"
     ]
    }
   ],
   "source": [
    "from pyspark.ml.feature import VectorAssembler\n",
    "\n",
    "from pyspark.ml import Pipeline\n",
    "from pyspark.ml.feature import StringIndexer, OneHotEncoderEstimator\n",
    "\n",
    "#convert relevant categorical into one hot encoded\n",
    "indexer1 = StringIndexer(inputCol=\"pickup_comm_area\", outputCol=\"pickup_comm_Idx\").setHandleInvalid(\"skip\")\n",
    "indexer2 = StringIndexer(inputCol=\"dropoff_comm_area\", outputCol=\"dropoff_comm_Idx\").setHandleInvalid(\"skip\")\n",
    "indexer3 = StringIndexer(inputCol=\"hourbin\", outputCol=\"hour_Idx\").setHandleInvalid(\"skip\")\n",
    "indexer4 = StringIndexer(inputCol=\"week_day\", outputCol=\"day_Idx\").setHandleInvalid(\"skip\")\n",
    "indexer5 = StringIndexer(inputCol=\"year\", outputCol=\"year_Idx\").setHandleInvalid(\"skip\")\n",
    "indexer6 = StringIndexer(inputCol=\"month\", outputCol=\"month_Idx\").setHandleInvalid(\"skip\")\n",
    "\n",
    "#gather all indexers as inputs to the One Hot Encoder\n",
    "inputs = [indexer1.getOutputCol(), indexer2.getOutputCol(),indexer3.getOutputCol(),\\\n",
    "          indexer4.getOutputCol(),indexer5.getOutputCol(),indexer6.getOutputCol()]\n",
    "\n",
    "#create the one hot encoder\n",
    "encoder = OneHotEncoderEstimator(inputCols=inputs,  \\\n",
    "                                 outputCols=[\"pickup_comm_Vec\", \"dropoff_comm_Vec\",\"hour_Vec\",\"day_Vec\"\\\n",
    "                                            ,\"year_Vec\",\"month_Vec\"])\n",
    "\n",
    "#run it through a pipeline\n",
    "pipeline = Pipeline(stages=[indexer1, indexer2, indexer3, indexer4, indexer5, indexer6, encoder])\n",
    "encodedRideshare = pipeline.fit(rideshares).transform(rideshares)\n",
    "\n",
    "encodedRideshare.show(5)"
   ]
  },
  {
   "cell_type": "code",
   "execution_count": 19,
   "metadata": {},
   "outputs": [
    {
     "name": "stdout",
     "output_type": "stream",
     "text": [
      "+-----+----------------+-----------------+----+----+-----+--------+-------+---------------+----------------+--------+-------+--------+---------+--------------+----------------+-------------+---------------+---------------+-------------+--------------------+\n",
      "|miles|pickup_comm_area|dropoff_comm_area|fare|year|month|week_day|hourbin|pickup_comm_Idx|dropoff_comm_Idx|hour_Idx|day_Idx|year_Idx|month_Idx|     month_Vec|dropoff_comm_Vec|     year_Vec|pickup_comm_Vec|       hour_Vec|      day_Vec|            features|\n",
      "+-----+----------------+-----------------+----+----+-----+--------+-------+---------------+----------------+--------+-------+--------+---------+--------------+----------------+-------------+---------------+---------------+-------------+--------------------+\n",
      "|  3.7|              24|                5| 7.5|2019|    5|  Monday|     11|            4.0|            12.0|     3.0|    6.0|     0.0|      6.0|(11,[6],[1.0])| (76,[12],[1.0])|(2,[0],[1.0])| (76,[4],[1.0])| (11,[3],[1.0])|    (6,[],[])|(183,[4,88,155,16...|\n",
      "| 12.0|              24|               41|20.0|2019|    6| Tuesday|     11|            4.0|            11.0|     3.0|    5.0|     0.0|      5.0|(11,[5],[1.0])| (76,[11],[1.0])|(2,[0],[1.0])| (76,[4],[1.0])| (11,[3],[1.0])|(6,[5],[1.0])|(183,[4,87,155,16...|\n",
      "|  2.7|              28|                8| 7.5|2019|    4|Saturday|      8|            2.0|             0.0|     1.0|    0.0|     0.0|      7.0|(11,[7],[1.0])|  (76,[0],[1.0])|(2,[0],[1.0])| (76,[2],[1.0])| (11,[1],[1.0])|(6,[0],[1.0])|(183,[2,76,153,16...|\n",
      "|  2.0|               8|                8| 7.5|2019|    4|Thursday|      9|            0.0|             0.0|     0.0|    2.0|     0.0|      7.0|(11,[7],[1.0])|  (76,[0],[1.0])|(2,[0],[1.0])| (76,[0],[1.0])| (11,[0],[1.0])|(6,[2],[1.0])|(183,[0,76,152,16...|\n",
      "| 10.2|               4|               32|17.5|2019|    4|Thursday|      4|           15.0|             1.0|     4.0|    2.0|     0.0|      7.0|(11,[7],[1.0])|  (76,[1],[1.0])|(2,[0],[1.0])|(76,[15],[1.0])| (11,[4],[1.0])|(6,[2],[1.0])|(183,[15,77,156,1...|\n",
      "|  0.5|              32|               32| 7.5|2019|    6|Thursday|      8|            1.0|             1.0|     1.0|    2.0|     0.0|      5.0|(11,[5],[1.0])|  (76,[1],[1.0])|(2,[0],[1.0])| (76,[1],[1.0])| (11,[1],[1.0])|(6,[2],[1.0])|(183,[1,77,153,16...|\n",
      "|  6.0|               6|               32|35.0|2019|    6|Saturday|      7|            3.0|             1.0|     5.0|    0.0|     0.0|      5.0|(11,[5],[1.0])|  (76,[1],[1.0])|(2,[0],[1.0])| (76,[3],[1.0])| (11,[5],[1.0])|(6,[0],[1.0])|(183,[3,77,157,16...|\n",
      "|  1.0|              28|               28| 2.5|2019|    4|  Friday|      3|            2.0|             2.0|     8.0|    1.0|     0.0|      7.0|(11,[7],[1.0])|  (76,[2],[1.0])|(2,[0],[1.0])| (76,[2],[1.0])| (11,[8],[1.0])|(6,[1],[1.0])|(183,[2,78,160,16...|\n",
      "|  1.3|               8|                8| 5.0|2019|    6|  Friday|     10|            0.0|             0.0|     2.0|    1.0|     0.0|      5.0|(11,[5],[1.0])|  (76,[0],[1.0])|(2,[0],[1.0])| (76,[0],[1.0])| (11,[2],[1.0])|(6,[1],[1.0])|(183,[0,76,154,16...|\n",
      "|  2.6|               6|                7|12.5|2019|    4|Saturday|      8|            3.0|             5.0|     1.0|    0.0|     0.0|      7.0|(11,[7],[1.0])|  (76,[5],[1.0])|(2,[0],[1.0])| (76,[3],[1.0])| (11,[1],[1.0])|(6,[0],[1.0])|(183,[3,81,153,16...|\n",
      "|  4.1|               8|                6|17.5|2019|    4|Thursday|      8|            0.0|             3.0|     1.0|    2.0|     0.0|      7.0|(11,[7],[1.0])|  (76,[3],[1.0])|(2,[0],[1.0])| (76,[0],[1.0])| (11,[1],[1.0])|(6,[2],[1.0])|(183,[0,79,153,16...|\n",
      "|  6.6|               3|                8|25.0|2019|    4|  Friday|      7|            8.0|             0.0|     5.0|    1.0|     0.0|      7.0|(11,[7],[1.0])|  (76,[0],[1.0])|(2,[0],[1.0])| (76,[8],[1.0])| (11,[5],[1.0])|(6,[1],[1.0])|(183,[8,76,157,16...|\n",
      "|  6.9|              77|               24|15.0|2019|    6|Saturday|      1|           10.0|             4.0|    10.0|    0.0|     0.0|      5.0|(11,[5],[1.0])|  (76,[4],[1.0])|(2,[0],[1.0])|(76,[10],[1.0])|(11,[10],[1.0])|(6,[0],[1.0])|(183,[10,80,162,1...|\n",
      "|  1.9|               8|                7| 5.0|2019|    5|  Friday|     11|            0.0|             5.0|     3.0|    1.0|     0.0|      6.0|(11,[6],[1.0])|  (76,[5],[1.0])|(2,[0],[1.0])| (76,[0],[1.0])| (11,[3],[1.0])|(6,[1],[1.0])|(183,[0,81,155,16...|\n",
      "|  2.4|              17|               10| 5.0|2019|    5|Thursday|      7|           52.0|            44.0|     5.0|    2.0|     0.0|      6.0|(11,[6],[1.0])| (76,[44],[1.0])|(2,[0],[1.0])|(76,[52],[1.0])| (11,[5],[1.0])|(6,[2],[1.0])|(183,[52,120,157,...|\n",
      "|  2.0|               7|               24| 5.0|2019|    5|  Friday|     11|            5.0|             4.0|     3.0|    1.0|     0.0|      6.0|(11,[6],[1.0])|  (76,[4],[1.0])|(2,[0],[1.0])| (76,[5],[1.0])| (11,[3],[1.0])|(6,[1],[1.0])|(183,[5,80,155,16...|\n",
      "|  0.9|               8|                8| 5.0|2019|    4| Tuesday|      8|            0.0|             0.0|     1.0|    5.0|     0.0|      7.0|(11,[7],[1.0])|  (76,[0],[1.0])|(2,[0],[1.0])| (76,[0],[1.0])| (11,[1],[1.0])|(6,[5],[1.0])|(183,[0,76,153,16...|\n",
      "| 11.5|              32|               56|25.0|2019|    6|  Friday|      2|            1.0|            13.0|    11.0|    1.0|     0.0|      5.0|(11,[5],[1.0])| (76,[13],[1.0])|(2,[0],[1.0])| (76,[1],[1.0])|     (11,[],[])|(6,[1],[1.0])|(183,[1,89,164,16...|\n",
      "|  7.4|              25|               28|12.5|2019|    6|  Sunday|      6|           19.0|             2.0|     6.0|    3.0|     0.0|      5.0|(11,[5],[1.0])|  (76,[2],[1.0])|(2,[0],[1.0])|(76,[19],[1.0])| (11,[6],[1.0])|(6,[3],[1.0])|(183,[19,78,158,1...|\n",
      "|  3.4|              24|               21| 7.5|2019|    6|  Friday|     11|            4.0|            15.0|     3.0|    1.0|     0.0|      5.0|(11,[5],[1.0])| (76,[15],[1.0])|(2,[0],[1.0])| (76,[4],[1.0])| (11,[3],[1.0])|(6,[1],[1.0])|(183,[4,91,155,16...|\n",
      "+-----+----------------+-----------------+----+----+-----+--------+-------+---------------+----------------+--------+-------+--------+---------+--------------+----------------+-------------+---------------+---------------+-------------+--------------------+\n",
      "only showing top 20 rows\n",
      "\n"
     ]
    }
   ],
   "source": [
    "assembler = VectorAssembler(inputCols = ['pickup_comm_Vec', 'dropoff_comm_Vec', \\\n",
    "                                         'hour_Vec', 'day_Vec', 'year_Vec','month_Vec','miles'], \\\n",
    "                            outputCol = 'features')\n",
    "\n",
    "encodedRideshare = assembler.transform(encodedRideshare)\n",
    "encodedRideshare.show()"
   ]
  },
  {
   "cell_type": "code",
   "execution_count": 20,
   "metadata": {},
   "outputs": [
    {
     "name": "stdout",
     "output_type": "stream",
     "text": [
      "+----------------------------------------------------------------+\n",
      "|features                                                        |\n",
      "+----------------------------------------------------------------+\n",
      "|(183,[4,88,155,169,177,182],[1.0,1.0,1.0,1.0,1.0,3.7])          |\n",
      "|(183,[4,87,155,168,169,176,182],[1.0,1.0,1.0,1.0,1.0,1.0,12.0]) |\n",
      "|(183,[2,76,153,163,169,178,182],[1.0,1.0,1.0,1.0,1.0,1.0,2.7])  |\n",
      "|(183,[0,76,152,165,169,178,182],[1.0,1.0,1.0,1.0,1.0,1.0,2.0])  |\n",
      "|(183,[15,77,156,165,169,178,182],[1.0,1.0,1.0,1.0,1.0,1.0,10.2])|\n",
      "+----------------------------------------------------------------+\n",
      "only showing top 5 rows\n",
      "\n"
     ]
    }
   ],
   "source": [
    "encodedRideshare.select('features').show(5,False)"
   ]
  },
  {
   "cell_type": "code",
   "execution_count": 21,
   "metadata": {},
   "outputs": [
    {
     "name": "stdout",
     "output_type": "stream",
     "text": [
      "+-----+----------------+-----------------+----+----+-----+--------+-------+---------------+----------------+--------+-------+--------+---------+--------------+----------------+-------------+---------------+--------------+-------------+--------------------+\n",
      "|miles|pickup_comm_area|dropoff_comm_area|fare|year|month|week_day|hourbin|pickup_comm_Idx|dropoff_comm_Idx|hour_Idx|day_Idx|year_Idx|month_Idx|     month_Vec|dropoff_comm_Vec|     year_Vec|pickup_comm_Vec|      hour_Vec|      day_Vec|            features|\n",
      "+-----+----------------+-----------------+----+----+-----+--------+-------+---------------+----------------+--------+-------+--------+---------+--------------+----------------+-------------+---------------+--------------+-------------+--------------------+\n",
      "|  0.0|               2|               14| 5.0|2019|    4|Thursday|      7|           22.0|            23.0|     5.0|    2.0|     0.0|      7.0|(11,[7],[1.0])| (76,[23],[1.0])|(2,[0],[1.0])|(76,[22],[1.0])|(11,[5],[1.0])|(6,[2],[1.0])|(183,[22,99,157,1...|\n",
      "+-----+----------------+-----------------+----+----+-----+--------+-------+---------------+----------------+--------+-------+--------+---------+--------------+----------------+-------------+---------------+--------------+-------------+--------------------+\n",
      "only showing top 1 row\n",
      "\n"
     ]
    }
   ],
   "source": [
    "#split data into train and test\n",
    "rideshare_train, rideshare_test = encodedRideshare.randomSplit([.6,.4],seed=1234)\n",
    "rideshare_test, rideshare_holdout = encodedRideshare.randomSplit([.7,.3],seed=1234)\n",
    "\n",
    "rideshare_train.show(1)"
   ]
  },
  {
   "cell_type": "code",
   "execution_count": 22,
   "metadata": {},
   "outputs": [
    {
     "name": "stdout",
     "output_type": "stream",
     "text": [
      "Coefficients: [0.0,0.0,0.0,0.0,0.0,0.0,0.0,0.0,0.0,0.0,0.0,0.0,0.0,0.0,0.0,0.0,0.0,0.0,0.0,0.0,0.0,0.0,0.0,0.0,0.0,0.0,0.0,0.0,0.0,0.0,0.0,0.0,0.0,0.0,0.0,0.0,0.0,0.0,0.0,0.0,0.0,0.0,0.0,0.0,0.0,0.0,0.0,0.0,0.0,0.0,0.0,0.0,0.0,0.0,0.0,0.0,0.0,0.0,0.0,0.0,0.0,0.0,0.0,0.0,0.0,0.0,0.0,0.0,0.0,0.0,0.0,0.0,0.0,0.0,0.0,0.0,0.0,0.0,0.0,0.0,0.0,0.0,0.0,0.09882202468715107,0.0,0.0,0.0,0.0,0.0,0.0,0.0,0.0,0.0,0.0,0.0,0.0,0.0,0.0,0.0,0.0,0.0,0.0,0.0,0.0,0.0,0.0,0.0,0.0,0.0,0.0,0.0,0.0,0.0,0.0,0.0,0.0,0.0,0.0,0.0,0.0,0.0,0.0,0.0,0.0,0.0,0.0,0.0,0.0,0.0,0.0,0.0,0.0,0.0,0.0,0.0,0.0,0.0,0.0,0.0,0.0,0.0,0.0,0.0,0.0,0.0,0.0,0.0,0.0,0.0,0.0,0.0,0.0,0.0,0.46090726291808104,0.0,0.0,0.0,0.0,0.0,0.0,0.0,0.0,0.0,0.0,0.0,0.0,0.0,0.0,0.0,0.0,-0.25143020439742125,0.0,0.0,0.0,0.0,0.0,0.15725424964248338,0.0,0.0,0.0,0.0,0.0,1.3467124665424965]\n",
      "Intercept: 4.15834397063148\n",
      "RMSE: 3.642618\n",
      "r2: 0.768659\n"
     ]
    }
   ],
   "source": [
    "from pyspark.ml.regression import LinearRegression\n",
    "\n",
    "#Elastic Net\n",
    "lr = LinearRegression(featuresCol = 'features', labelCol='fare', regParam=0.3, elasticNetParam=0.8, maxIter=10)\n",
    "lrm = lr.fit(rideshare_train)\n",
    "\n",
    "#coefficients\n",
    "print(\"Coefficients: \" + str(lrm.coefficients))\n",
    "print(\"Intercept: \" + str(lrm.intercept))\n",
    "\n",
    "#model summary\n",
    "print(\"RMSE: %f\" % lrm.summary.rootMeanSquaredError)\n",
    "print(\"r2: %f\" % lrm.summary.r2)\n"
   ]
  },
  {
   "cell_type": "code",
   "execution_count": 23,
   "metadata": {},
   "outputs": [
    {
     "data": {
      "text/plain": [
       "[83, 153, 170, 176, 182]"
      ]
     },
     "execution_count": 23,
     "metadata": {},
     "output_type": "execute_result"
    }
   ],
   "source": [
    "sigfeature=[]\n",
    "[sigfeature.append(i) for i,j in enumerate(lrm.coefficients) if lrm.coefficients[i]!=0]\n",
    "sigfeature"
   ]
  },
  {
   "cell_type": "code",
   "execution_count": 25,
   "metadata": {},
   "outputs": [
    {
     "name": "stdout",
     "output_type": "stream",
     "text": [
      "CrossValidatorModel_ed0e43f3b261\n"
     ]
    }
   ],
   "source": [
    "from pyspark.ml.tuning import ParamGridBuilder, CrossValidator\n",
    "from pyspark.ml.evaluation import RegressionEvaluator\n",
    "\n",
    "lr2 = LinearRegression(featuresCol = 'features', labelCol='fare')\n",
    "\n",
    "lr_paramGrid = ParamGridBuilder() \\\n",
    "    .addGrid(lr.elasticNetParam, [0.0, 0.5, 1.0]) \\\n",
    "    .addGrid(lr.regParam, [0.01, 0.1, 0.5]) \\\n",
    "    .addGrid(lr.maxIter, [1, 5, 10])\\\n",
    "    .build()\n",
    "    \n",
    "lrevaluator = RegressionEvaluator(predictionCol=\"prediction\", labelCol=\"fare\", metricName=\"rmse\")\n",
    "\n",
    "lrcv = CrossValidator(estimator = lr,\n",
    "                    estimatorParamMaps = lr_paramGrid,\n",
    "                    evaluator = lrevaluator,\n",
    "                    numFolds = 5)\n",
    "\n",
    "lrcvModel = lrcv.fit(rideshare_train)\n",
    "print(lrcvModel)"
   ]
  },
  {
   "cell_type": "code",
   "execution_count": 26,
   "metadata": {},
   "outputs": [
    {
     "name": "stdout",
     "output_type": "stream",
     "text": [
      "Coefficient Standard Errors: [0.011610783760727892, 0.01164662801462127, 0.011651587290544921, 0.011674864143286954, 0.01168286180398206, 0.011696155257345249, 0.011768095743187306, 0.011988551935415469, 0.011912401834199506, 0.011907952980855459, 0.01210262307381252, 0.012166302861714294, 0.012146881606747099, 0.012240167707184012, 0.012246628780899058, 0.012280419785085702, 0.012328836962764513, 0.012354224961121506, 0.012407090138776606, 0.012652986143587569, 0.012610143569803391, 0.012740043464934327, 0.012833261898563274, 0.012873732616771971, 0.012852150665629369, 0.012909667577090937, 0.012962579203950839, 0.013123074218935559, 0.013031796351540382, 0.013163343717346813, 0.013134690072611652, 0.013215863058003463, 0.013169990786975217, 0.013198613280287801, 0.013169130691836462, 0.013337419168982083, 0.013408208491484792, 0.013569360660518042, 0.013718361742106347, 0.013654729995024957, 0.013765449496471708, 0.013706780741535363, 0.013855096574490794, 0.014158307338931133, 0.014606916637357274, 0.014469696592559155, 0.014626599535321479, 0.014777057739125857, 0.014805628429669678, 0.01473402833462613, 0.014993577434469461, 0.014999975733250818, 0.01514150793184608, 0.015244817067895006, 0.015241926094030073, 0.015314623881790302, 0.015276607143267205, 0.016005723210028862, 0.016217354657679026, 0.016586929574331357, 0.01711904859782337, 0.017426513884377996, 0.017297741747432236, 0.017304965365760795, 0.01764211172631076, 0.017807670186595865, 0.017950324443329033, 0.018132615374529263, 0.01858613435565733, 0.019753756641732716, 0.01970210395435444, 0.020516206094869694, 0.02255136730134323, 0.024396482019311393, 0.02590160840608567, 0.026695607949583814, 0.01160390714067495, 0.011631707467810289, 0.011640717089662739, 0.011668262216136215, 0.011684365096741697, 0.011692893528016004, 0.011768875734695362, 0.011894998407105721, 0.011899617217707752, 0.011918681041821585, 0.012104238785021024, 0.012155649059257681, 0.012142055609249643, 0.012213788787113685, 0.0122522540992666, 0.012276522991585194, 0.012284717140045753, 0.01234958640534742, 0.012388366516909851, 0.012709689029156807, 0.012678213645656364, 0.012822323062654715, 0.01288747436487319, 0.012867618809241687, 0.012968302685496433, 0.012984302474001761, 0.013046347696538485, 0.013203843105909049, 0.013120424059475869, 0.013269922095125952, 0.013224205075253724, 0.013191621641664564, 0.01321659674861676, 0.013279115387253498, 0.013261276008722837, 0.013443729768530702, 0.013587370710875324, 0.013569032693828934, 0.013802723801917492, 0.013826598251596028, 0.013843754976290298, 0.013770271812311071, 0.014083050186106639, 0.014301274970879801, 0.014510199979333727, 0.014588153402511244, 0.014685504467392847, 0.014895448377899776, 0.014953379907687338, 0.014983913492049288, 0.015089465260883266, 0.015102411288937146, 0.015099489388484027, 0.015157040990924754, 0.015387387397391459, 0.015478732711855734, 0.015455114902371572, 0.016028416151556424, 0.016275167516884553, 0.016539738105432602, 0.0167008366521055, 0.01715467719276098, 0.017343648313489085, 0.017618039928195266, 0.017847660991403235, 0.017787223761668854, 0.018104610644058827, 0.018039595177749255, 0.01824549213929257, 0.01962455392155171, 0.02016695934857865, 0.020909863927054084, 0.022334651566547428, 0.02426401300577109, 0.02515318769320555, 0.026038991641923758, 0.003078632138215514, 0.003106537608208914, 0.003126215828070234, 0.003173279619360909, 0.003161680473924086, 0.003153069152747598, 0.0031686873577582626, 0.0031895769057611618, 0.0033149986754797455, 0.00337648604535963, 0.0038600154317670107, 0.0016443807900780461, 0.0016639384402244834, 0.0017345744697101768, 0.0017610402624282128, 0.001775643281835869, 0.0017974991216777078, 0.0018346059511432974, 0.0022555913347929043, 0.0023446217796488293, 0.00234792085181153, 0.0023124624803947482, 0.002323609245635171, 0.002311561775235779, 0.002383895350367489, 0.0024083988915867185, 0.0024633806204418175, 0.002477421778415912, 0.0024945827778091673, 0.00252176067807869, 0.0001336945716736016, 0.01659413400485816]\n",
      "P Values: [0.0, 0.0, 0.0, 0.0, 0.0, 0.0, 0.0, 0.0, 1.2895783019217788e-06, 0.0, 0.0, 0.0, 0.0, 0.2354039818245468, 8.962800118528236e-06, 0.0, 0.0, 3.6637359812630166e-13, 0.04225937548926928, 0.0, 0.0, 0.0, 4.13277717905558e-05, 0.0, 0.0, 0.001512710705523057, 0.0, 0.0, 0.0, 0.0, 0.0, 0.0, 0.0, 0.0005227416560056319, 0.006811408875304403, 0.0, 0.0, 0.0, 0.0, 0.00652708997005802, 0.0, 0.028636812843125137, 0.0, 0.0, 0.0, 0.0, 0.0, 3.7985352479008583e-06, 0.0, 0.0, 0.0, 0.0, 0.10824106425093616, 0.0, 0.4218720539558485, 0.00026661303211339415, 0.0, 0.0, 0.0, 0.0, 3.104849042978586e-05, 0.0, 0.0, 0.0, 0.0, 0.0, 0.0, 0.0, 0.0, 2.220446049250313e-16, 0.0, 0.0, 0.0, 0.0, 0.0, 0.0, 0.0, 0.0, 0.0, 0.0, 5.10702591327572e-15, 1.5276668818842154e-13, 2.1625662641078236e-05, 0.0, 0.0, 0.0, 0.0, 0.0, 0.0, 0.0, 0.0, 2.220446049250313e-16, 9.79216707719388e-13, 0.02179712915864984, 1.1370254937581592e-07, 0.0, 0.0, 0.018746433944359264, 0.009663095172643743, 0.0, 0.0, 2.9767805367564293e-05, 0.0, 0.8329541817439794, 0.024533017783069377, 5.655254042835622e-12, 0.0, 0.0, 0.0, 0.179637834733811, 0.0, 1.1114826836688962e-09, 0.0, 0.0, 4.379438408363967e-06, 0.0, 0.0, 0.0, 2.8575202095426633e-05, 9.101451581727815e-06, 0.0, 0.0, 0.0, 2.220446049250313e-16, 2.4069635173873394e-13, 0.0, 1.0467772457722901e-06, 4.770653871943864e-09, 0.0, 0.0, 0.0, 0.0, 0.0, 0.27858197074156754, 0.0, 0.0, 0.0, 1.2220757739100918e-10, 1.176836406102666e-14, 0.00024883278890208693, 0.0, 9.707541608783288e-06, 6.558114660215608e-07, 0.0, 0.0, 0.0007376752212713278, 0.0, 0.0, 0.03320621816853553, 0.0, 0.01997194112936973, 0.0, 0.0, 0.0, 0.0, 0.0, 0.0, 0.0, 0.0, 0.0, 0.0, 0.0, 0.0, 0.0, 0.0, 0.0, 0.0, 0.0, 1.3563319214426883e-06, 0.0, 0.0, 0.0, 0.0, 0.0, 0.0, 0.0, 0.0, 0.0, 0.0, 0.0, 0.0, 5.7418147678678366e-05, 0.0, 0.0]\n"
     ]
    }
   ],
   "source": [
    "lrcvSummary = lrcvModel.bestModel.summary\n",
    "print(\"Coefficient Standard Errors: \" + str(lrcvSummary.coefficientStandardErrors))\n",
    "print(\"P Values: \" + str(lrcvSummary.pValues)) # Last element is the intercept"
   ]
  },
  {
   "cell_type": "code",
   "execution_count": 27,
   "metadata": {},
   "outputs": [
    {
     "name": "stdout",
     "output_type": "stream",
     "text": [
      "RMSE: 3.5431101472037945\n"
     ]
    }
   ],
   "source": [
    "lrpredictions = lrcvModel.transform(rideshare_test)\n",
    "print('RMSE:', lrevaluator.evaluate(lrpredictions))"
   ]
  },
  {
   "cell_type": "code",
   "execution_count": 28,
   "metadata": {},
   "outputs": [
    {
     "name": "stdout",
     "output_type": "stream",
     "text": [
      "+----------------+---------------+\n",
      "|pickup_comm_area|pickup_comm_Vec|\n",
      "+----------------+---------------+\n",
      "|              55|     (76,[],[])|\n",
      "|               8| (76,[0],[1.0])|\n",
      "|              32| (76,[1],[1.0])|\n",
      "|              28| (76,[2],[1.0])|\n",
      "|               6| (76,[3],[1.0])|\n",
      "|              24| (76,[4],[1.0])|\n",
      "|               7| (76,[5],[1.0])|\n",
      "|              22| (76,[6],[1.0])|\n",
      "|              76| (76,[7],[1.0])|\n",
      "|               3| (76,[8],[1.0])|\n",
      "|              33| (76,[9],[1.0])|\n",
      "|              77|(76,[10],[1.0])|\n",
      "|              41|(76,[11],[1.0])|\n",
      "|               5|(76,[12],[1.0])|\n",
      "|              31|(76,[13],[1.0])|\n",
      "|              21|(76,[14],[1.0])|\n",
      "|               4|(76,[15],[1.0])|\n",
      "|              56|(76,[16],[1.0])|\n",
      "|              16|(76,[17],[1.0])|\n",
      "|               1|(76,[18],[1.0])|\n",
      "|              25|(76,[19],[1.0])|\n",
      "|              23|(76,[20],[1.0])|\n",
      "|              43|(76,[21],[1.0])|\n",
      "|               2|(76,[22],[1.0])|\n",
      "|              19|(76,[23],[1.0])|\n",
      "|              14|(76,[24],[1.0])|\n",
      "|              15|(76,[25],[1.0])|\n",
      "|              35|(76,[26],[1.0])|\n",
      "|              44|(76,[27],[1.0])|\n",
      "|              60|(76,[28],[1.0])|\n",
      "|              29|(76,[29],[1.0])|\n",
      "|              38|(76,[30],[1.0])|\n",
      "|              69|(76,[31],[1.0])|\n",
      "|              42|(76,[32],[1.0])|\n",
      "|              30|(76,[33],[1.0])|\n",
      "|              34|(76,[34],[1.0])|\n",
      "|              71|(76,[35],[1.0])|\n",
      "|              39|(76,[36],[1.0])|\n",
      "|              61|(76,[37],[1.0])|\n",
      "|              49|(76,[38],[1.0])|\n",
      "|              66|(76,[39],[1.0])|\n",
      "|              68|(76,[40],[1.0])|\n",
      "|              27|(76,[41],[1.0])|\n",
      "|              58|(76,[42],[1.0])|\n",
      "|              67|(76,[43],[1.0])|\n",
      "|              10|(76,[44],[1.0])|\n",
      "|              20|(76,[45],[1.0])|\n",
      "|              11|(76,[46],[1.0])|\n",
      "|              63|(76,[47],[1.0])|\n",
      "|              46|(76,[48],[1.0])|\n",
      "|              40|(76,[49],[1.0])|\n",
      "|              73|(76,[50],[1.0])|\n",
      "|              59|(76,[51],[1.0])|\n",
      "|              17|(76,[52],[1.0])|\n",
      "|              65|(76,[53],[1.0])|\n",
      "|              70|(76,[54],[1.0])|\n",
      "|              26|(76,[55],[1.0])|\n",
      "|              13|(76,[56],[1.0])|\n",
      "|              53|(76,[57],[1.0])|\n",
      "|              57|(76,[58],[1.0])|\n",
      "|              75|(76,[59],[1.0])|\n",
      "|              12|(76,[60],[1.0])|\n",
      "|              72|(76,[61],[1.0])|\n",
      "|              62|(76,[62],[1.0])|\n",
      "|              48|(76,[63],[1.0])|\n",
      "|              36|(76,[64],[1.0])|\n",
      "|              45|(76,[65],[1.0])|\n",
      "|              51|(76,[66],[1.0])|\n",
      "|              64|(76,[67],[1.0])|\n",
      "|              50|(76,[68],[1.0])|\n",
      "|               9|(76,[69],[1.0])|\n",
      "|              18|(76,[70],[1.0])|\n",
      "|              37|(76,[71],[1.0])|\n",
      "|              74|(76,[72],[1.0])|\n",
      "|              54|(76,[73],[1.0])|\n",
      "|              52|(76,[74],[1.0])|\n",
      "|              47|(76,[75],[1.0])|\n",
      "+----------------+---------------+\n",
      "\n"
     ]
    }
   ],
   "source": [
    "#0-75\n",
    "encodedRideshare.select('pickup_comm_area','pickup_comm_Vec').distinct().sort('pickup_comm_Vec').show(100)"
   ]
  },
  {
   "cell_type": "code",
   "execution_count": 29,
   "metadata": {},
   "outputs": [
    {
     "name": "stdout",
     "output_type": "stream",
     "text": [
      "+-----------------+----------------+\n",
      "|dropoff_comm_area|dropoff_comm_Vec|\n",
      "+-----------------+----------------+\n",
      "|               55|      (76,[],[])|\n",
      "|                8|  (76,[0],[1.0])|\n",
      "|               32|  (76,[1],[1.0])|\n",
      "|               28|  (76,[2],[1.0])|\n",
      "|                6|  (76,[3],[1.0])|\n",
      "|               24|  (76,[4],[1.0])|\n",
      "|                7|  (76,[5],[1.0])|\n",
      "|               22|  (76,[6],[1.0])|\n",
      "|               76|  (76,[7],[1.0])|\n",
      "|               33|  (76,[8],[1.0])|\n",
      "|                3|  (76,[9],[1.0])|\n",
      "|               77| (76,[10],[1.0])|\n",
      "|               41| (76,[11],[1.0])|\n",
      "|                5| (76,[12],[1.0])|\n",
      "|               56| (76,[13],[1.0])|\n",
      "|                4| (76,[14],[1.0])|\n",
      "|               21| (76,[15],[1.0])|\n",
      "|               31| (76,[16],[1.0])|\n",
      "|               16| (76,[17],[1.0])|\n",
      "|                1| (76,[18],[1.0])|\n",
      "|               25| (76,[19],[1.0])|\n",
      "|               23| (76,[20],[1.0])|\n",
      "|               43| (76,[21],[1.0])|\n",
      "|                2| (76,[22],[1.0])|\n",
      "|               14| (76,[23],[1.0])|\n",
      "|               19| (76,[24],[1.0])|\n",
      "|               15| (76,[25],[1.0])|\n",
      "|               35| (76,[26],[1.0])|\n",
      "|               44| (76,[27],[1.0])|\n",
      "|               29| (76,[28],[1.0])|\n",
      "|               69| (76,[29],[1.0])|\n",
      "|               42| (76,[30],[1.0])|\n",
      "|               60| (76,[31],[1.0])|\n",
      "|               34| (76,[32],[1.0])|\n",
      "|               30| (76,[33],[1.0])|\n",
      "|               38| (76,[34],[1.0])|\n",
      "|               71| (76,[35],[1.0])|\n",
      "|               61| (76,[36],[1.0])|\n",
      "|               39| (76,[37],[1.0])|\n",
      "|               49| (76,[38],[1.0])|\n",
      "|               66| (76,[39],[1.0])|\n",
      "|               68| (76,[40],[1.0])|\n",
      "|               27| (76,[41],[1.0])|\n",
      "|               58| (76,[42],[1.0])|\n",
      "|               67| (76,[43],[1.0])|\n",
      "|               10| (76,[44],[1.0])|\n",
      "|               11| (76,[45],[1.0])|\n",
      "|               20| (76,[46],[1.0])|\n",
      "|               46| (76,[47],[1.0])|\n",
      "|               13| (76,[48],[1.0])|\n",
      "|               40| (76,[49],[1.0])|\n",
      "|               73| (76,[50],[1.0])|\n",
      "|               63| (76,[51],[1.0])|\n",
      "|               17| (76,[52],[1.0])|\n",
      "|               59| (76,[53],[1.0])|\n",
      "|               70| (76,[54],[1.0])|\n",
      "|               65| (76,[55],[1.0])|\n",
      "|               26| (76,[56],[1.0])|\n",
      "|               57| (76,[57],[1.0])|\n",
      "|               53| (76,[58],[1.0])|\n",
      "|               75| (76,[59],[1.0])|\n",
      "|               12| (76,[60],[1.0])|\n",
      "|               72| (76,[61],[1.0])|\n",
      "|               48| (76,[62],[1.0])|\n",
      "|               64| (76,[63],[1.0])|\n",
      "|               51| (76,[64],[1.0])|\n",
      "|               62| (76,[65],[1.0])|\n",
      "|               45| (76,[66],[1.0])|\n",
      "|               36| (76,[67],[1.0])|\n",
      "|               50| (76,[68],[1.0])|\n",
      "|                9| (76,[69],[1.0])|\n",
      "|               18| (76,[70],[1.0])|\n",
      "|               37| (76,[71],[1.0])|\n",
      "|               74| (76,[72],[1.0])|\n",
      "|               54| (76,[73],[1.0])|\n",
      "|               47| (76,[74],[1.0])|\n",
      "|               52| (76,[75],[1.0])|\n",
      "+-----------------+----------------+\n",
      "\n"
     ]
    }
   ],
   "source": [
    "#76-151, look at 8 (83rd position)\n",
    "encodedRideshare.select('dropoff_comm_area','dropoff_comm_Vec').distinct().sort('dropoff_comm_Vec').show(100)"
   ]
  },
  {
   "cell_type": "code",
   "execution_count": 30,
   "metadata": {},
   "outputs": [
    {
     "name": "stdout",
     "output_type": "stream",
     "text": [
      "+-------+---------------+\n",
      "|hourbin|       hour_Vec|\n",
      "+-------+---------------+\n",
      "|      2|     (11,[],[])|\n",
      "|      9| (11,[0],[1.0])|\n",
      "|      8| (11,[1],[1.0])|\n",
      "|     10| (11,[2],[1.0])|\n",
      "|     11| (11,[3],[1.0])|\n",
      "|      4| (11,[4],[1.0])|\n",
      "|      7| (11,[5],[1.0])|\n",
      "|      6| (11,[6],[1.0])|\n",
      "|      5| (11,[7],[1.0])|\n",
      "|      3| (11,[8],[1.0])|\n",
      "|      0| (11,[9],[1.0])|\n",
      "|      1|(11,[10],[1.0])|\n",
      "+-------+---------------+\n",
      "\n"
     ]
    }
   ],
   "source": [
    "#152-162, look at 2nd (153rd overall)\n",
    "encodedRideshare.select('hourbin','hour_Vec').distinct().sort('hour_Vec').show(100)"
   ]
  },
  {
   "cell_type": "code",
   "execution_count": 31,
   "metadata": {},
   "outputs": [
    {
     "name": "stdout",
     "output_type": "stream",
     "text": [
      "+---------+-------------+\n",
      "| week_day|      day_Vec|\n",
      "+---------+-------------+\n",
      "|   Monday|    (6,[],[])|\n",
      "| Saturday|(6,[0],[1.0])|\n",
      "|   Friday|(6,[1],[1.0])|\n",
      "| Thursday|(6,[2],[1.0])|\n",
      "|   Sunday|(6,[3],[1.0])|\n",
      "|Wednesday|(6,[4],[1.0])|\n",
      "|  Tuesday|(6,[5],[1.0])|\n",
      "+---------+-------------+\n",
      "\n"
     ]
    }
   ],
   "source": [
    "#163-168\n",
    "encodedRideshare.select('week_day','day_Vec').distinct().sort('day_Vec').show(100)"
   ]
  },
  {
   "cell_type": "code",
   "execution_count": 32,
   "metadata": {},
   "outputs": [
    {
     "name": "stdout",
     "output_type": "stream",
     "text": [
      "+-----+---------------+\n",
      "|month|      month_Vec|\n",
      "+-----+---------------+\n",
      "|    9|     (11,[],[])|\n",
      "|   11| (11,[0],[1.0])|\n",
      "|   12| (11,[1],[1.0])|\n",
      "|    2| (11,[2],[1.0])|\n",
      "|    1| (11,[3],[1.0])|\n",
      "|    3| (11,[4],[1.0])|\n",
      "|    6| (11,[5],[1.0])|\n",
      "|    5| (11,[6],[1.0])|\n",
      "|    4| (11,[7],[1.0])|\n",
      "|   10| (11,[8],[1.0])|\n",
      "|    8| (11,[9],[1.0])|\n",
      "|    7|(11,[10],[1.0])|\n",
      "+-----+---------------+\n",
      "\n"
     ]
    }
   ],
   "source": [
    "#171-181, 176- (#182=miles)\n",
    "encodedRideshare.select('month','month_Vec').distinct().sort('month_Vec').show(100)"
   ]
  },
  {
   "cell_type": "code",
   "execution_count": 33,
   "metadata": {},
   "outputs": [],
   "source": [
    "from pyspark.ml.classification import RandomForestClassifier\n",
    "from pyspark.ml.regression import RandomForestRegressor\n",
    "from pyspark.ml.evaluation import RegressionEvaluator\n",
    "from pyspark.ml.regression import GBTRegressor\n",
    "\n",
    "\n",
    "gbt = GBTRegressor(maxDepth=5, labelCol=\"fare\", predictionCol=\"prediction\")\n",
    "\n",
    "gbt_rideshare = gbt.fit(rideshare_train)\n",
    "\n",
    "gbt_rideshare_predictions = gbt_rideshare.transform(rideshare_test)\n"
   ]
  },
  {
   "cell_type": "code",
   "execution_count": 34,
   "metadata": {},
   "outputs": [],
   "source": [
    "evaluator = RegressionEvaluator(\n",
    "    labelCol=\"fare\", predictionCol=\"prediction\", metricName=\"rmse\")\n",
    "\n",
    "rmse = evaluator.evaluate(gbt_rideshare_predictions)"
   ]
  },
  {
   "cell_type": "code",
   "execution_count": 35,
   "metadata": {},
   "outputs": [
    {
     "data": {
      "text/plain": [
       "3.521888418342016"
      ]
     },
     "execution_count": 35,
     "metadata": {},
     "output_type": "execute_result"
    }
   ],
   "source": [
    "rmse"
   ]
  },
  {
   "cell_type": "code",
   "execution_count": 36,
   "metadata": {},
   "outputs": [],
   "source": [
    "chicago_taxi = spark.read.csv('/user/trasley/data/chicagotaxi.csv', inferSchema=True, header=True)"
   ]
  },
  {
   "cell_type": "code",
   "execution_count": 37,
   "metadata": {},
   "outputs": [
    {
     "name": "stdout",
     "output_type": "stream",
     "text": [
      "+--------------------+--------------------+--------------------+--------------------+-------+-----+------------+-------------+----------------+-----------------+-----+---+-----+------+-----+------------+---------+-------------------+--------------------+--------------------+--------------------+---------------------+--------------------+\n",
      "|             trip_id|             taxi_id|          start_time|            end_time|seconds|miles|pickup_tract|dropoff_tract|pickup_comm_area|dropoff_comm_area| fare|tip|tolls|extras|total|payment_type|  company|pickup_lat_centroid|pickup_long_centroid| pickup_loc_centroid|dropoff_lat_centroid|dropoff_long_centroid|dropoff_loc_centroid|\n",
      "+--------------------+--------------------+--------------------+--------------------+-------+-----+------------+-------------+----------------+-----------------+-----+---+-----+------+-----+------------+---------+-------------------+--------------------+--------------------+--------------------+---------------------+--------------------+\n",
      "|b37a4e66043e8e401...|3e411cc3ddbde7425...|08/13/2016 02:00:...|08/13/2016 02:15:...|   1106|  7.4|        null|         null|               7|                1| 21.0|0.0| null|   0.0| 21.0|        Cash|Flash Cab|       41.922686284|       -87.649488729|POINT (-87.649488...|        42.009622881|        -87.670166857|POINT (-87.670166...|\n",
      "|6fa8ed3021157b86b...|d74c2b862831c0bd0...|08/16/2016 09:30:...|08/16/2016 09:45:...|    318|  1.5| 17031081500|  17031839100|               8|               32|  7.0|0.0| null|   0.0|  7.0|        Cash|Flash Cab|       41.892507781|       -87.626214906|POINT (-87.626214...|        41.880994471|        -87.632746489|POINT (-87.632746...|\n",
      "|8d13e95d6721d2099...|5e0c4603d829e77c4...|08/18/2016 12:15:...|08/18/2016 12:30:...|    915|  1.7| 17031839100|  17031081401|              32|                8|10.25|0.0| null|   1.0|11.25|        Cash|Flash Cab|       41.880994471|       -87.632746489|POINT (-87.632746...|         41.89503345|        -87.619710672|POINT (-87.619710...|\n",
      "|b58b23286586a817e...|cb2f48ea4a1af38c2...|08/15/2016 06:30:...|08/15/2016 06:45:...|    708|  0.6| 17031081700|  17031081600|               8|                8| 7.25|0.0| null|   2.0| 9.25|        Cash|Flash Cab|       41.892042136|        -87.63186395|POINT (-87.631863...|        41.892072635|        -87.628874157|POINT (-87.628874...|\n",
      "|15ea1fa68fa37c70d...|b19847c6c45cc89f3...|08/14/2016 09:00:...|08/14/2016 09:45:...|   2450| 14.1| 17031980100|  17031071500|              56|                7| 39.5|9.0| null|   5.5| 54.0| Credit Card|Flash Cab|       41.785998518|       -87.750934289|POINT (-87.750934...|        41.914616286|        -87.631717366|POINT (-87.631717...|\n",
      "|41c66894f227adc03...|7e7c8866e9fc3cc39...|08/14/2016 03:00:...|08/14/2016 03:15:...|    558|  0.8| 17031081201|  17031320100|               8|               32|  7.0|0.0| null|   1.5|  8.5|        Cash|Flash Cab|       41.899155613|       -87.626210532|POINT (-87.626210...|        41.884987192|        -87.620992913|POINT (-87.620992...|\n",
      "|9af0e77f4c4fb4577...|257a2a2470d7c964f...|08/14/2016 02:30:...|08/14/2016 02:45:...|   1231|  6.1|        null|         null|               8|                3| 19.5|0.0| null|   2.0| 21.5|        Cash|Flash Cab|       41.899602111|       -87.633308037|POINT (-87.633308...|         41.96581197|        -87.655878786|POINT (-87.655878...|\n",
      "|733f2d2715dccc598...|3a44705a1a625814c...|08/11/2016 03:00:...|08/11/2016 03:15:...|    460|  1.5| 17031063000|  17031071400|               6|                7| 7.25|1.0| null|   0.0| 8.25| Credit Card|Flash Cab|       41.936310131|       -87.651562592|POINT (-87.651562...|        41.922082541|        -87.634156093|POINT (-87.634156...|\n",
      "|2be8de30af69f5b89...|6b4b70c62117815b5...|08/12/2016 12:00:...|08/12/2016 12:00:...|    428|  1.0| 17031081700|  17031081300|               8|                8| 6.25|2.0| null|   0.0| 8.25| Credit Card|Flash Cab|       41.892042136|        -87.63186395|POINT (-87.631863...|        41.898331794|        -87.620762865|POINT (-87.620762...|\n",
      "|369da14bbeb8d1630...|53c01ec83313fee49...|08/16/2016 01:00:...|08/16/2016 01:00:...|    513|  1.3| 17031839100|  17031081500|              32|                8|  7.5|2.0| null|   0.0|  9.5| Credit Card|Flash Cab|       41.880994471|       -87.632746489|POINT (-87.632746...|        41.892507781|        -87.626214906|POINT (-87.626214...|\n",
      "+--------------------+--------------------+--------------------+--------------------+-------+-----+------------+-------------+----------------+-----------------+-----+---+-----+------+-----+------------+---------+-------------------+--------------------+--------------------+--------------------+---------------------+--------------------+\n",
      "only showing top 10 rows\n",
      "\n"
     ]
    }
   ],
   "source": [
    "chicago_taxi = chicago_taxi.withColumnRenamed(\"Trip ID\", \"trip_id\")\\\n",
    "    .withColumnRenamed(\"Taxi ID\", \"taxi_id\")\\\n",
    "    .withColumnRenamed(\"Trip Start Timestamp\", \"start_time\")\\\n",
    "    .withColumnRenamed(\"Trip End Timestamp\", \"end_time\")\\\n",
    "    .withColumnRenamed(\"Trip Seconds\", \"seconds\")\\\n",
    "    .withColumnRenamed(\"Trip Miles\", \"miles\")\\\n",
    "    .withColumnRenamed(\"Pickup Census Tract\", \"pickup_tract\")\\\n",
    "    .withColumnRenamed(\"Dropoff Census Tract\", \"dropoff_tract\")\\\n",
    "    .withColumnRenamed(\"Pickup Community Area\", \"pickup_comm_area\")\\\n",
    "    .withColumnRenamed(\"Dropoff Community Area\", \"dropoff_comm_area\")\\\n",
    "    .withColumnRenamed(\"Fare\", \"fare\")\\\n",
    "    .withColumnRenamed(\"Tips\", \"tip\")\\\n",
    "    .withColumnRenamed(\"Tolls\", \"tolls\")\\\n",
    "    .withColumnRenamed(\"Extras\", \"extras\")\\\n",
    "    .withColumnRenamed(\"Trip Total\",\"total\")\\\n",
    "    .withColumnRenamed(\"Payment Type\", \"payment_type\")\\\n",
    "    .withColumnRenamed(\"Company\", \"company\")\\\n",
    "    .withColumnRenamed(\"Pickup Centroid Latitude\",\"pickup_lat_centroid\")\\\n",
    "    .withColumnRenamed(\"Pickup Centroid Longitude\",\"pickup_long_centroid\")\\\n",
    "    .withColumnRenamed(\"Pickup Centroid Location\",\"pickup_loc_centroid\")\\\n",
    "    .withColumnRenamed(\"Dropoff Centroid Latitude\",\"dropoff_lat_centroid\")\\\n",
    "    .withColumnRenamed(\"Dropoff Centroid Longitude\",\"dropoff_long_centroid\")\\\n",
    "    .withColumnRenamed(\"Dropoff Centroid  Location\",\"dropoff_loc_centroid\")\n",
    "chicago_taxi.show(10)"
   ]
  },
  {
   "cell_type": "code",
   "execution_count": 38,
   "metadata": {},
   "outputs": [],
   "source": [
    "chicago_taxi=chicago_taxi.withColumn('start_time',from_unixtime(unix_timestamp('start_time', 'MM/dd/yyyy hh:mm:ss a')).cast(TimestampType())).withColumn('end_time',from_unixtime(unix_timestamp('start_time', 'MM/dd/yyyy hh:mm:ss a')).cast(TimestampType()))"
   ]
  },
  {
   "cell_type": "code",
   "execution_count": 39,
   "metadata": {},
   "outputs": [
    {
     "data": {
      "text/plain": [
       "22476958"
      ]
     },
     "execution_count": 39,
     "metadata": {},
     "output_type": "execute_result"
    }
   ],
   "source": [
    "#Limit date range for consistency across datasets\n",
    "date_from='2018-11-01'\n",
    "date_to='2020-06-30'\n",
    "chicago_taxi=chicago_taxi.filter((chicago_taxi.start_time>=date_from) & (chicago_taxi.start_time<=date_to))\n",
    "chicago_taxi.count()"
   ]
  },
  {
   "cell_type": "code",
   "execution_count": 40,
   "metadata": {},
   "outputs": [],
   "source": [
    "#Drop rows where required fields are null - need them to accurately capture ride\n",
    "chicago_taxi=chicago_taxi.dropna(subset=['pickup_comm_area', 'dropoff_comm_area','seconds','end_time','miles','fare'])"
   ]
  },
  {
   "cell_type": "code",
   "execution_count": 41,
   "metadata": {},
   "outputs": [],
   "source": [
    "from pyspark.sql.functions import col\n",
    "\n",
    "\n",
    "#rideshares.filter(col('seconds').isNull() & (hour(col(\"end_time\"))-hour(col(\"start_time\"))>=1)).count()\n",
    "chicago_taxi=chicago_taxi.filter(~(col('seconds').isNull() & (hour(col(\"end_time\"))-hour(col(\"start_time\"))>=1)))"
   ]
  },
  {
   "cell_type": "code",
   "execution_count": 42,
   "metadata": {},
   "outputs": [
    {
     "name": "stdout",
     "output_type": "stream",
     "text": [
      "+-------+-------+----------+--------+-------+-----+------------+-------------+----------------+-----------------+----+---+------+------+-----+------------+-------+-------------------+--------------------+-------------------+--------------------+---------------------+--------------------+\n",
      "|trip_id|taxi_id|start_time|end_time|seconds|miles|pickup_tract|dropoff_tract|pickup_comm_area|dropoff_comm_area|fare|tip| tolls|extras|total|payment_type|company|pickup_lat_centroid|pickup_long_centroid|pickup_loc_centroid|dropoff_lat_centroid|dropoff_long_centroid|dropoff_loc_centroid|\n",
      "+-------+-------+----------+--------+-------+-----+------------+-------------+----------------+-----------------+----+---+------+------+-----+------------+-------+-------------------+--------------------+-------------------+--------------------+---------------------+--------------------+\n",
      "|      0|      0|         0|       0|      0|    0|     5739078|      5739078|               0|                0|   0|  0|562951|     0|    0|           0|      0|                  0|                   0|                  0|                   0|                    0|                   0|\n",
      "+-------+-------+----------+--------+-------+-----+------------+-------------+----------------+-----------------+----+---+------+------+-----+------------+-------+-------------------+--------------------+-------------------+--------------------+---------------------+--------------------+\n",
      "\n"
     ]
    }
   ],
   "source": [
    "from pyspark.sql.functions import when, count\n",
    "\n",
    "chicago_taxi.select([count(when(col(i).isNull(), i)).alias(i) for i in chicago_taxi.columns]).show()"
   ]
  },
  {
   "cell_type": "code",
   "execution_count": 43,
   "metadata": {},
   "outputs": [],
   "source": [
    "from pyspark.sql.functions import year,month,hour,minute,second,date_format,col\n",
    "\n",
    "#break out year, month, day of week, and hour that ride starts to be used as categorical features\n",
    "\n",
    "chicago_taxi=chicago_taxi.withColumn('year',year(\"start_time\")).withColumn('month',month(\"start_time\")) \\\n",
    "            .withColumn('hour',hour(\"start_time\")).withColumn(\"week_day\", date_format(col(\"start_time\"), \"EEEE\"))"
   ]
  },
  {
   "cell_type": "code",
   "execution_count": 44,
   "metadata": {},
   "outputs": [],
   "source": [
    "from pyspark.sql import functions as F\n",
    "from pyspark.ml.feature import StringIndexer\n",
    "\n",
    "\n",
    "#bin hours in to 2 hour increments to be used as categories\n",
    "\n",
    "chicago_taxi=chicago_taxi.withColumn('hourbin',F.floor((F.col('hour')/2)).cast('string'))"
   ]
  },
  {
   "cell_type": "code",
   "execution_count": 45,
   "metadata": {},
   "outputs": [],
   "source": [
    "droplist=['trip_id','taxi_id','start_time','end_time','tip','extras','total','Tolls','payment_type','company','pickup_lat_centroid','pickup_long_centroid', 'dropoff_lat_centroid','dropoff_long_centroid','pickup_loc_centroid','dropoff_loc_centroid','pickup_tract','dropoff_tract','hour','seconds','dropoff_loc_centroid']\n",
    "chicago_taxi=chicago_taxi.drop(*droplist)"
   ]
  },
  {
   "cell_type": "code",
   "execution_count": 46,
   "metadata": {},
   "outputs": [
    {
     "name": "stdout",
     "output_type": "stream",
     "text": [
      "+-----+----------------+-----------------+-----+----+-----+---------+-------+\n",
      "|miles|pickup_comm_area|dropoff_comm_area| fare|year|month| week_day|hourbin|\n",
      "+-----+----------------+-----------------+-----+----+-----+---------+-------+\n",
      "| 2.53|              22|               22| 11.0|2019|    2| Saturday|      1|\n",
      "| 0.35|               3|                3|  4.0|2019|    2|  Tuesday|      8|\n",
      "|  1.0|              77|                3|  6.0|2019|    2| Thursday|      4|\n",
      "| 0.67|               6|                3|  5.0|2019|    2|  Tuesday|      3|\n",
      "| 0.63|              77|               77|  5.0|2019|    3| Saturday|      6|\n",
      "| 3.87|              77|               77| 13.0|2019|    3|Wednesday|      3|\n",
      "| 19.8|              33|               76|48.75|2018|   11|   Monday|      6|\n",
      "|  1.3|              32|                8|  7.5|2018|   11|   Friday|      6|\n",
      "| 0.81|              28|               32|  6.0|2018|   11|   Friday|      8|\n",
      "|17.27|              76|                8| 50.0|2018|   11| Saturday|      0|\n",
      "|14.29|              22|               76| 50.0|2018|   11|   Monday|      5|\n",
      "|  6.6|              28|                7|21.25|2018|   11| Saturday|     11|\n",
      "| 1.37|               8|               28|  7.0|2018|   11| Saturday|      8|\n",
      "| 16.6|              28|               28| 42.5|2018|   11| Saturday|      9|\n",
      "| 3.32|              32|               28| 12.5|2018|   11| Thursday|      8|\n",
      "|  2.0|              32|                8|  9.0|2018|   11| Thursday|     10|\n",
      "|  7.4|               8|                1| 23.5|2018|   11| Saturday|      6|\n",
      "| 16.6|              56|                6| 42.0|2018|   11|   Sunday|      8|\n",
      "|  1.4|               8|               32| 7.75|2018|   11|   Friday|     10|\n",
      "| 17.7|              76|               32|45.25|2018|   11|   Monday|      8|\n",
      "+-----+----------------+-----------------+-----+----+-----+---------+-------+\n",
      "only showing top 20 rows\n",
      "\n"
     ]
    }
   ],
   "source": [
    "chicago_taxi.show()"
   ]
  },
  {
   "cell_type": "code",
   "execution_count": 47,
   "metadata": {},
   "outputs": [
    {
     "name": "stdout",
     "output_type": "stream",
     "text": [
      "+-----+----------------+-----------------+----+----+-----+--------+-------+---------------+----------------+--------+-------+--------+---------+--------------+----------------+-------------+---------------+---------------+-------------+\n",
      "|miles|pickup_comm_area|dropoff_comm_area|fare|year|month|week_day|hourbin|pickup_comm_Idx|dropoff_comm_Idx|hour_Idx|day_Idx|year_Idx|month_Idx|     month_Vec|dropoff_comm_Vec|     year_Vec|pickup_comm_Vec|       hour_Vec|      day_Vec|\n",
      "+-----+----------------+-----------------+----+----+-----+--------+-------+---------------+----------------+--------+-------+--------+---------+--------------+----------------+-------------+---------------+---------------+-------------+\n",
      "| 2.53|              22|               22|11.0|2019|    2|Saturday|      1|           13.0|             9.0|    10.0|    5.0|     0.0|      2.0|(11,[2],[1.0])|  (76,[9],[1.0])|(2,[0],[1.0])|(76,[13],[1.0])|(11,[10],[1.0])|(6,[5],[1.0])|\n",
      "| 0.35|               3|                3| 4.0|2019|    2| Tuesday|      8|            8.0|             8.0|     0.0|    3.0|     0.0|      2.0|(11,[2],[1.0])|  (76,[8],[1.0])|(2,[0],[1.0])| (76,[8],[1.0])| (11,[0],[1.0])|(6,[3],[1.0])|\n",
      "|  1.0|              77|                3| 6.0|2019|    2|Thursday|      4|           10.0|             8.0|     5.0|    0.0|     0.0|      2.0|(11,[2],[1.0])|  (76,[8],[1.0])|(2,[0],[1.0])|(76,[10],[1.0])| (11,[5],[1.0])|(6,[0],[1.0])|\n",
      "| 0.67|               6|                3| 5.0|2019|    2| Tuesday|      3|            4.0|             8.0|     8.0|    3.0|     0.0|      2.0|(11,[2],[1.0])|  (76,[8],[1.0])|(2,[0],[1.0])| (76,[4],[1.0])| (11,[8],[1.0])|(6,[3],[1.0])|\n",
      "| 0.63|              77|               77| 5.0|2019|    3|Saturday|      6|           10.0|            10.0|     3.0|    5.0|     0.0|      4.0|(11,[4],[1.0])| (76,[10],[1.0])|(2,[0],[1.0])|(76,[10],[1.0])| (11,[3],[1.0])|(6,[5],[1.0])|\n",
      "+-----+----------------+-----------------+----+----+-----+--------+-------+---------------+----------------+--------+-------+--------+---------+--------------+----------------+-------------+---------------+---------------+-------------+\n",
      "only showing top 5 rows\n",
      "\n"
     ]
    }
   ],
   "source": [
    "from pyspark.ml.feature import VectorAssembler\n",
    "\n",
    "from pyspark.ml import Pipeline\n",
    "from pyspark.ml.feature import StringIndexer, OneHotEncoderEstimator\n",
    "\n",
    "#convert relevant categorical into one hot encoded\n",
    "indexer1 = StringIndexer(inputCol=\"pickup_comm_area\", outputCol=\"pickup_comm_Idx\").setHandleInvalid(\"skip\")\n",
    "indexer2 = StringIndexer(inputCol=\"dropoff_comm_area\", outputCol=\"dropoff_comm_Idx\").setHandleInvalid(\"skip\")\n",
    "indexer3 = StringIndexer(inputCol=\"hourbin\", outputCol=\"hour_Idx\").setHandleInvalid(\"skip\")\n",
    "indexer4 = StringIndexer(inputCol=\"week_day\", outputCol=\"day_Idx\").setHandleInvalid(\"skip\")\n",
    "indexer5 = StringIndexer(inputCol=\"year\", outputCol=\"year_Idx\").setHandleInvalid(\"skip\")\n",
    "indexer6 = StringIndexer(inputCol=\"month\", outputCol=\"month_Idx\").setHandleInvalid(\"skip\")\n",
    "\n",
    "#gather all indexers as inputs to the One Hot Encoder\n",
    "inputs = [indexer1.getOutputCol(), indexer2.getOutputCol(),indexer3.getOutputCol(),\\\n",
    "          indexer4.getOutputCol(),indexer5.getOutputCol(),indexer6.getOutputCol()]\n",
    "\n",
    "#create the one hot encoder\n",
    "encoder = OneHotEncoderEstimator(inputCols=inputs,  \\\n",
    "                                 outputCols=[\"pickup_comm_Vec\", \"dropoff_comm_Vec\",\"hour_Vec\",\"day_Vec\"\\\n",
    "                                            ,\"year_Vec\",\"month_Vec\"])\n",
    "\n",
    "#run it through a pipeline\n",
    "pipeline = Pipeline(stages=[indexer1, indexer2, indexer3, indexer4, indexer5, indexer6, encoder])\n",
    "encodedTaxi = pipeline.fit(chicago_taxi).transform(chicago_taxi)\n",
    "\n",
    "encodedTaxi.show(5)"
   ]
  },
  {
   "cell_type": "code",
   "execution_count": 48,
   "metadata": {},
   "outputs": [
    {
     "name": "stdout",
     "output_type": "stream",
     "text": [
      "+-----+----------------+-----------------+-----+----+-----+---------+-------+---------------+----------------+--------+-------+--------+---------+--------------+----------------+-------------+---------------+---------------+-------------+--------------------+\n",
      "|miles|pickup_comm_area|dropoff_comm_area| fare|year|month| week_day|hourbin|pickup_comm_Idx|dropoff_comm_Idx|hour_Idx|day_Idx|year_Idx|month_Idx|     month_Vec|dropoff_comm_Vec|     year_Vec|pickup_comm_Vec|       hour_Vec|      day_Vec|            features|\n",
      "+-----+----------------+-----------------+-----+----+-----+---------+-------+---------------+----------------+--------+-------+--------+---------+--------------+----------------+-------------+---------------+---------------+-------------+--------------------+\n",
      "| 2.53|              22|               22| 11.0|2019|    2| Saturday|      1|           13.0|             9.0|    10.0|    5.0|     0.0|      2.0|(11,[2],[1.0])|  (76,[9],[1.0])|(2,[0],[1.0])|(76,[13],[1.0])|(11,[10],[1.0])|(6,[5],[1.0])|(183,[13,85,162,1...|\n",
      "| 0.35|               3|                3|  4.0|2019|    2|  Tuesday|      8|            8.0|             8.0|     0.0|    3.0|     0.0|      2.0|(11,[2],[1.0])|  (76,[8],[1.0])|(2,[0],[1.0])| (76,[8],[1.0])| (11,[0],[1.0])|(6,[3],[1.0])|(183,[8,84,152,16...|\n",
      "|  1.0|              77|                3|  6.0|2019|    2| Thursday|      4|           10.0|             8.0|     5.0|    0.0|     0.0|      2.0|(11,[2],[1.0])|  (76,[8],[1.0])|(2,[0],[1.0])|(76,[10],[1.0])| (11,[5],[1.0])|(6,[0],[1.0])|(183,[10,84,157,1...|\n",
      "| 0.67|               6|                3|  5.0|2019|    2|  Tuesday|      3|            4.0|             8.0|     8.0|    3.0|     0.0|      2.0|(11,[2],[1.0])|  (76,[8],[1.0])|(2,[0],[1.0])| (76,[4],[1.0])| (11,[8],[1.0])|(6,[3],[1.0])|(183,[4,84,160,16...|\n",
      "| 0.63|              77|               77|  5.0|2019|    3| Saturday|      6|           10.0|            10.0|     3.0|    5.0|     0.0|      4.0|(11,[4],[1.0])| (76,[10],[1.0])|(2,[0],[1.0])|(76,[10],[1.0])| (11,[3],[1.0])|(6,[5],[1.0])|(183,[10,86,155,1...|\n",
      "| 3.87|              77|               77| 13.0|2019|    3|Wednesday|      3|           10.0|            10.0|     8.0|    2.0|     0.0|      4.0|(11,[4],[1.0])| (76,[10],[1.0])|(2,[0],[1.0])|(76,[10],[1.0])| (11,[8],[1.0])|(6,[2],[1.0])|(183,[10,86,160,1...|\n",
      "| 19.8|              33|               76|48.75|2018|   11|   Monday|      6|            5.0|             5.0|     3.0|    4.0|     1.0|      0.0|(11,[0],[1.0])|  (76,[5],[1.0])|(2,[1],[1.0])| (76,[5],[1.0])| (11,[3],[1.0])|(6,[4],[1.0])|(183,[5,81,155,16...|\n",
      "|  1.3|              32|                8|  7.5|2018|   11|   Friday|      6|            1.0|             0.0|     3.0|    1.0|     1.0|      0.0|(11,[0],[1.0])|  (76,[0],[1.0])|(2,[1],[1.0])| (76,[1],[1.0])| (11,[3],[1.0])|(6,[1],[1.0])|(183,[1,76,155,16...|\n",
      "| 0.81|              28|               32|  6.0|2018|   11|   Friday|      8|            2.0|             1.0|     0.0|    1.0|     1.0|      0.0|(11,[0],[1.0])|  (76,[1],[1.0])|(2,[1],[1.0])| (76,[2],[1.0])| (11,[0],[1.0])|(6,[1],[1.0])|(183,[2,77,152,16...|\n",
      "|17.27|              76|                8| 50.0|2018|   11| Saturday|      0|            3.0|             0.0|     9.0|    5.0|     1.0|      0.0|(11,[0],[1.0])|  (76,[0],[1.0])|(2,[1],[1.0])| (76,[3],[1.0])| (11,[9],[1.0])|(6,[5],[1.0])|(183,[3,76,161,16...|\n",
      "|14.29|              22|               76| 50.0|2018|   11|   Monday|      5|           13.0|             5.0|     4.0|    4.0|     1.0|      0.0|(11,[0],[1.0])|  (76,[5],[1.0])|(2,[1],[1.0])|(76,[13],[1.0])| (11,[4],[1.0])|(6,[4],[1.0])|(183,[13,81,156,1...|\n",
      "|  6.6|              28|                7|21.25|2018|   11| Saturday|     11|            2.0|             3.0|     7.0|    5.0|     1.0|      0.0|(11,[0],[1.0])|  (76,[3],[1.0])|(2,[1],[1.0])| (76,[2],[1.0])| (11,[7],[1.0])|(6,[5],[1.0])|(183,[2,79,159,16...|\n",
      "| 1.37|               8|               28|  7.0|2018|   11| Saturday|      8|            0.0|             2.0|     0.0|    5.0|     1.0|      0.0|(11,[0],[1.0])|  (76,[2],[1.0])|(2,[1],[1.0])| (76,[0],[1.0])| (11,[0],[1.0])|(6,[5],[1.0])|(183,[0,78,152,16...|\n",
      "| 16.6|              28|               28| 42.5|2018|   11| Saturday|      9|            2.0|             2.0|     1.0|    5.0|     1.0|      0.0|(11,[0],[1.0])|  (76,[2],[1.0])|(2,[1],[1.0])| (76,[2],[1.0])| (11,[1],[1.0])|(6,[5],[1.0])|(183,[2,78,153,16...|\n",
      "| 3.32|              32|               28| 12.5|2018|   11| Thursday|      8|            1.0|             2.0|     0.0|    0.0|     1.0|      0.0|(11,[0],[1.0])|  (76,[2],[1.0])|(2,[1],[1.0])| (76,[1],[1.0])| (11,[0],[1.0])|(6,[0],[1.0])|(183,[1,78,152,16...|\n",
      "|  2.0|              32|                8|  9.0|2018|   11| Thursday|     10|            1.0|             0.0|     6.0|    0.0|     1.0|      0.0|(11,[0],[1.0])|  (76,[0],[1.0])|(2,[1],[1.0])| (76,[1],[1.0])| (11,[6],[1.0])|(6,[0],[1.0])|(183,[1,76,158,16...|\n",
      "|  7.4|               8|                1| 23.5|2018|   11| Saturday|      6|            0.0|            17.0|     3.0|    5.0|     1.0|      0.0|(11,[0],[1.0])| (76,[17],[1.0])|(2,[1],[1.0])| (76,[0],[1.0])| (11,[3],[1.0])|(6,[5],[1.0])|(183,[0,93,155,16...|\n",
      "| 16.6|              56|                6| 42.0|2018|   11|   Sunday|      8|            7.0|             4.0|     0.0|    6.0|     1.0|      0.0|(11,[0],[1.0])|  (76,[4],[1.0])|(2,[1],[1.0])| (76,[7],[1.0])| (11,[0],[1.0])|    (6,[],[])|(183,[7,80,152,17...|\n",
      "|  1.4|               8|               32| 7.75|2018|   11|   Friday|     10|            0.0|             1.0|     6.0|    1.0|     1.0|      0.0|(11,[0],[1.0])|  (76,[1],[1.0])|(2,[1],[1.0])| (76,[0],[1.0])| (11,[6],[1.0])|(6,[1],[1.0])|(183,[0,77,158,16...|\n",
      "| 17.7|              76|               32|45.25|2018|   11|   Monday|      8|            3.0|             1.0|     0.0|    4.0|     1.0|      0.0|(11,[0],[1.0])|  (76,[1],[1.0])|(2,[1],[1.0])| (76,[3],[1.0])| (11,[0],[1.0])|(6,[4],[1.0])|(183,[3,77,152,16...|\n",
      "+-----+----------------+-----------------+-----+----+-----+---------+-------+---------------+----------------+--------+-------+--------+---------+--------------+----------------+-------------+---------------+---------------+-------------+--------------------+\n",
      "only showing top 20 rows\n",
      "\n"
     ]
    }
   ],
   "source": [
    "assembler = VectorAssembler(inputCols = ['pickup_comm_Vec', 'dropoff_comm_Vec', \\\n",
    "                                         'hour_Vec', 'day_Vec', 'year_Vec','month_Vec','miles'], \\\n",
    "                            outputCol = 'features')\n",
    "\n",
    "encodedTaxi = assembler.transform(encodedTaxi)\n",
    "encodedTaxi.show()"
   ]
  },
  {
   "cell_type": "code",
   "execution_count": 49,
   "metadata": {},
   "outputs": [
    {
     "name": "stdout",
     "output_type": "stream",
     "text": [
      "+-----+----------------+-----------------+----+----+-----+--------+-------+---------------+----------------+--------+-------+--------+---------+--------------+----------------+-------------+---------------+--------------+-------------+--------------------+\n",
      "|miles|pickup_comm_area|dropoff_comm_area|fare|year|month|week_day|hourbin|pickup_comm_Idx|dropoff_comm_Idx|hour_Idx|day_Idx|year_Idx|month_Idx|     month_Vec|dropoff_comm_Vec|     year_Vec|pickup_comm_Vec|      hour_Vec|      day_Vec|            features|\n",
      "+-----+----------------+-----------------+----+----+-----+--------+-------+---------------+----------------+--------+-------+--------+---------+--------------+----------------+-------------+---------------+--------------+-------------+--------------------+\n",
      "| 0.35|               3|                3| 4.0|2019|    2| Tuesday|      8|            8.0|             8.0|     0.0|    3.0|     0.0|      2.0|(11,[2],[1.0])|  (76,[8],[1.0])|(2,[0],[1.0])| (76,[8],[1.0])|(11,[0],[1.0])|(6,[3],[1.0])|(183,[8,84,152,16...|\n",
      "+-----+----------------+-----------------+----+----+-----+--------+-------+---------------+----------------+--------+-------+--------+---------+--------------+----------------+-------------+---------------+--------------+-------------+--------------------+\n",
      "only showing top 1 row\n",
      "\n"
     ]
    }
   ],
   "source": [
    "#split data into train and test\n",
    "taxi_train, taxi_test = encodedTaxi.randomSplit([.6,.4],seed=1234)\n",
    "taxi_test, taxi_holdout = taxi_test.randomSplit([.7,.3],seed=1234)\n",
    "\n",
    "taxi_train.show(1)"
   ]
  },
  {
   "cell_type": "code",
   "execution_count": 50,
   "metadata": {},
   "outputs": [
    {
     "name": "stdout",
     "output_type": "stream",
     "text": [
      "Coefficients: [0.0,0.0,0.0,10.567166273016595,0.0,0.0,0.0,9.823950741467195,0.0,0.0,0.0,0.0,0.0,0.0,0.0,7.449024797548444,0.0,0.0,0.0,0.0,0.0,0.0,0.0,0.0,0.0,0.0,0.0,0.0,0.0,0.0,0.0,0.0,0.0,0.0,0.0,0.0,0.0,0.0,0.0,0.0,0.0,0.0,0.0,0.0,0.0,0.0,0.0,0.0,0.0,0.0,0.0,0.0,0.0,0.0,0.0,0.0,0.0,0.0,0.0,0.0,0.0,0.0,0.0,0.0,0.0,0.0,0.0,0.0,0.0,0.0,0.0,0.0,0.0,0.0,0.0,0.0,-1.3946823464526221,-1.3588740130096368,-1.0648677870277303,0.0,0.0,7.546241779951226,0.0,0.0,0.0,0.0,0.0,5.067586651767389,0.0,0.0,0.0,0.10996299549589296,0.0,0.0,0.0,0.0,0.0,0.0,0.0,0.0,0.0,2.5208161801136515,0.0,0.0,0.0,0.0,0.0,0.0,0.0,0.0,0.0,0.0,0.0,0.0,0.0,0.0,0.0,0.0,0.0,0.0,0.0,0.0,0.0,0.0,0.0,0.0,0.0,0.0,0.0,0.0,0.0,0.0,0.0,0.0,2.80706728070709,0.0,0.0,0.0,0.0,0.0,0.0,0.0,0.0,0.0,0.0,0.0,0.0,0.0,0.0,0.0,0.0,0.0,0.0,0.0,0.0,0.0,0.0,0.0,0.0,0.0,0.0,0.0,0.0,0.0,0.0,0.0,0.0,0.0,0.0,0.0,0.0,0.0,0.0,0.0,0.0,0.0,0.0,0.0,0.0,0.0,0.0,0.0,1.5086079511809427]\n",
      "Intercept: 8.445981483184378\n",
      "RMSE: 61.793379\n",
      "r2: 0.033665\n"
     ]
    }
   ],
   "source": [
    "from pyspark.ml.regression import LinearRegression\n",
    "\n",
    "#Elastic Net\n",
    "lr = LinearRegression(featuresCol = 'features', labelCol='fare', regParam=0.3, elasticNetParam=0.8, maxIter=10)\n",
    "lr_taxi = lr.fit(taxi_train)\n",
    "\n",
    "#coefficients\n",
    "print(\"Coefficients: \" + str(lr_taxi.coefficients))\n",
    "print(\"Intercept: \" + str(lr_taxi.intercept))\n",
    "\n",
    "#model summary\n",
    "print(\"RMSE: %f\" % lr_taxi.summary.rootMeanSquaredError)\n",
    "print(\"r2: %f\" % lr_taxi.summary.r2)\n"
   ]
  },
  {
   "cell_type": "code",
   "execution_count": 51,
   "metadata": {},
   "outputs": [
    {
     "data": {
      "text/plain": [
       "[3, 7, 15, 76, 77, 78, 81, 87, 91, 101, 134, 182]"
      ]
     },
     "execution_count": 51,
     "metadata": {},
     "output_type": "execute_result"
    }
   ],
   "source": [
    "sigfeature=[]\n",
    "[sigfeature.append(i) for i,j in enumerate(lr_taxi.coefficients) if lr_taxi.coefficients[i]!=0]\n",
    "sigfeature"
   ]
  },
  {
   "cell_type": "markdown",
   "metadata": {},
   "source": [
    "lr2 = LinearRegression(featuresCol = 'features', labelCol='fare')\n",
    "\n",
    "lr_paramGrid = ParamGridBuilder() \\\n",
    "    .addGrid(lr.elasticNetParam, [0.0, 0.5, 1.0]) \\\n",
    "    .addGrid(lr.regParam, [0.01, 0.1, 0.5]) \\\n",
    "    .addGrid(lr.maxIter, [1, 5, 10]) \\\n",
    "    .build()\n",
    "    \n",
    "lrevaluater = RegressionEvaluator(predictionCol=\"prediction\", labelCol=\"fare\", metricName=\"rmse\")\n",
    "\n",
    "lrcv = CrossValidator(estimator = lr,\n",
    "                    estimatorParamMaps = lrparamGrid,\n",
    "                    evaluator = lrevaluator,\n",
    "                    numFolds = 5)\n",
    "\n",
    "lrcvModel = lrcv.fit(taxi_train)\n",
    "print(lrcvModel)"
   ]
  },
  {
   "cell_type": "markdown",
   "metadata": {},
   "source": [
    "lrcvSummary = lrcvModel.bestModel.summary\n",
    "print(\"Coefficient Standard Errors: \" + str(lrcvSummary.coefficientStandardErrors))\n",
    "print(\"P Values: \" + str(lrcvSummary.pValues)) # Last element is the intercept"
   ]
  },
  {
   "cell_type": "markdown",
   "metadata": {},
   "source": [
    "lrpredictions = lrcvModel.transform(taxi_test)\n",
    "print('RMSE:', lrevaluator.evaluate(lrpredictions))"
   ]
  },
  {
   "cell_type": "code",
   "execution_count": null,
   "metadata": {},
   "outputs": [],
   "source": []
  },
  {
   "cell_type": "code",
   "execution_count": 53,
   "metadata": {},
   "outputs": [
    {
     "name": "stdout",
     "output_type": "stream",
     "text": [
      "+----------------+---------------+\n",
      "|pickup_comm_area|pickup_comm_Vec|\n",
      "+----------------+---------------+\n",
      "|              55|     (76,[],[])|\n",
      "|               8| (76,[0],[1.0])|\n",
      "|              32| (76,[1],[1.0])|\n",
      "|              28| (76,[2],[1.0])|\n",
      "|              76| (76,[3],[1.0])|\n",
      "|               6| (76,[4],[1.0])|\n",
      "|              33| (76,[5],[1.0])|\n",
      "|               7| (76,[6],[1.0])|\n",
      "|              56| (76,[7],[1.0])|\n",
      "|               3| (76,[8],[1.0])|\n",
      "|              24| (76,[9],[1.0])|\n",
      "|              77|(76,[10],[1.0])|\n",
      "|               2|(76,[11],[1.0])|\n",
      "|               1|(76,[12],[1.0])|\n",
      "|              22|(76,[13],[1.0])|\n",
      "|              16|(76,[14],[1.0])|\n",
      "|              41|(76,[15],[1.0])|\n",
      "|               4|(76,[16],[1.0])|\n",
      "|              35|(76,[17],[1.0])|\n",
      "|              21|(76,[18],[1.0])|\n",
      "|              14|(76,[19],[1.0])|\n",
      "|              11|(76,[20],[1.0])|\n",
      "|               5|(76,[21],[1.0])|\n",
      "|              15|(76,[22],[1.0])|\n",
      "|              39|(76,[23],[1.0])|\n",
      "|              59|(76,[24],[1.0])|\n",
      "|              38|(76,[25],[1.0])|\n",
      "|              43|(76,[26],[1.0])|\n",
      "|              34|(76,[27],[1.0])|\n",
      "|              13|(76,[28],[1.0])|\n",
      "|              44|(76,[29],[1.0])|\n",
      "|              42|(76,[30],[1.0])|\n",
      "|              10|(76,[31],[1.0])|\n",
      "|              25|(76,[32],[1.0])|\n",
      "|              23|(76,[33],[1.0])|\n",
      "|              31|(76,[34],[1.0])|\n",
      "|              49|(76,[35],[1.0])|\n",
      "|              19|(76,[36],[1.0])|\n",
      "|              69|(76,[37],[1.0])|\n",
      "|              27|(76,[38],[1.0])|\n",
      "|              71|(76,[39],[1.0])|\n",
      "|              73|(76,[40],[1.0])|\n",
      "|              60|(76,[41],[1.0])|\n",
      "|              29|(76,[42],[1.0])|\n",
      "|              46|(76,[43],[1.0])|\n",
      "|              36|(76,[44],[1.0])|\n",
      "|              68|(76,[45],[1.0])|\n",
      "|              53|(76,[46],[1.0])|\n",
      "|              12|(76,[47],[1.0])|\n",
      "|              40|(76,[48],[1.0])|\n",
      "|              48|(76,[49],[1.0])|\n",
      "|              17|(76,[50],[1.0])|\n",
      "|              61|(76,[51],[1.0])|\n",
      "|              70|(76,[52],[1.0])|\n",
      "|              75|(76,[53],[1.0])|\n",
      "|              20|(76,[54],[1.0])|\n",
      "|              51|(76,[55],[1.0])|\n",
      "|              30|(76,[56],[1.0])|\n",
      "|              67|(76,[57],[1.0])|\n",
      "|              66|(76,[58],[1.0])|\n",
      "|              45|(76,[59],[1.0])|\n",
      "|              37|(76,[60],[1.0])|\n",
      "|              50|(76,[61],[1.0])|\n",
      "|              58|(76,[62],[1.0])|\n",
      "|              26|(76,[63],[1.0])|\n",
      "|              72|(76,[64],[1.0])|\n",
      "|              47|(76,[65],[1.0])|\n",
      "|              65|(76,[66],[1.0])|\n",
      "|              18|(76,[67],[1.0])|\n",
      "|              62|(76,[68],[1.0])|\n",
      "|              63|(76,[69],[1.0])|\n",
      "|              64|(76,[70],[1.0])|\n",
      "|              57|(76,[71],[1.0])|\n",
      "|              54|(76,[72],[1.0])|\n",
      "|               9|(76,[73],[1.0])|\n",
      "|              52|(76,[74],[1.0])|\n",
      "|              74|(76,[75],[1.0])|\n",
      "+----------------+---------------+\n",
      "\n"
     ]
    }
   ],
   "source": [
    "#0-75 - 3=Lakeview, 7=O'Hare, 15=Lincoln Square\n",
    "encodedTaxi.select('pickup_comm_area','pickup_comm_Vec').distinct().sort('pickup_comm_Vec').show(100)"
   ]
  },
  {
   "cell_type": "code",
   "execution_count": 54,
   "metadata": {},
   "outputs": [
    {
     "name": "stdout",
     "output_type": "stream",
     "text": [
      "+-----------------+----------------+\n",
      "|dropoff_comm_area|dropoff_comm_Vec|\n",
      "+-----------------+----------------+\n",
      "|               55|      (76,[],[])|\n",
      "|                8|  (76,[0],[1.0])|\n",
      "|               32|  (76,[1],[1.0])|\n",
      "|               28|  (76,[2],[1.0])|\n",
      "|                7|  (76,[3],[1.0])|\n",
      "|                6|  (76,[4],[1.0])|\n",
      "|               76|  (76,[5],[1.0])|\n",
      "|               24|  (76,[6],[1.0])|\n",
      "|               33|  (76,[7],[1.0])|\n",
      "|                3|  (76,[8],[1.0])|\n",
      "|               22|  (76,[9],[1.0])|\n",
      "|               77| (76,[10],[1.0])|\n",
      "|               56| (76,[11],[1.0])|\n",
      "|                5| (76,[12],[1.0])|\n",
      "|                4| (76,[13],[1.0])|\n",
      "|                2| (76,[14],[1.0])|\n",
      "|               16| (76,[15],[1.0])|\n",
      "|               41| (76,[16],[1.0])|\n",
      "|                1| (76,[17],[1.0])|\n",
      "|               21| (76,[18],[1.0])|\n",
      "|               35| (76,[19],[1.0])|\n",
      "|               14| (76,[20],[1.0])|\n",
      "|               31| (76,[21],[1.0])|\n",
      "|               34| (76,[22],[1.0])|\n",
      "|               15| (76,[23],[1.0])|\n",
      "|               39| (76,[24],[1.0])|\n",
      "|               11| (76,[25],[1.0])|\n",
      "|               10| (76,[26],[1.0])|\n",
      "|               59| (76,[27],[1.0])|\n",
      "|               38| (76,[28],[1.0])|\n",
      "|               23| (76,[29],[1.0])|\n",
      "|               13| (76,[30],[1.0])|\n",
      "|               43| (76,[31],[1.0])|\n",
      "|               60| (76,[32],[1.0])|\n",
      "|               25| (76,[33],[1.0])|\n",
      "|               19| (76,[34],[1.0])|\n",
      "|               42| (76,[35],[1.0])|\n",
      "|               44| (76,[36],[1.0])|\n",
      "|               27| (76,[37],[1.0])|\n",
      "|               69| (76,[38],[1.0])|\n",
      "|               12| (76,[39],[1.0])|\n",
      "|               49| (76,[40],[1.0])|\n",
      "|               29| (76,[41],[1.0])|\n",
      "|               30| (76,[42],[1.0])|\n",
      "|               17| (76,[43],[1.0])|\n",
      "|               71| (76,[44],[1.0])|\n",
      "|               68| (76,[45],[1.0])|\n",
      "|               36| (76,[46],[1.0])|\n",
      "|               61| (76,[47],[1.0])|\n",
      "|               20| (76,[48],[1.0])|\n",
      "|               73| (76,[49],[1.0])|\n",
      "|               40| (76,[50],[1.0])|\n",
      "|               46| (76,[51],[1.0])|\n",
      "|               37| (76,[52],[1.0])|\n",
      "|               70| (76,[53],[1.0])|\n",
      "|               75| (76,[54],[1.0])|\n",
      "|               48| (76,[55],[1.0])|\n",
      "|               64| (76,[56],[1.0])|\n",
      "|               53| (76,[57],[1.0])|\n",
      "|               58| (76,[58],[1.0])|\n",
      "|               67| (76,[59],[1.0])|\n",
      "|               66| (76,[60],[1.0])|\n",
      "|               26| (76,[61],[1.0])|\n",
      "|                9| (76,[62],[1.0])|\n",
      "|               51| (76,[63],[1.0])|\n",
      "|               72| (76,[64],[1.0])|\n",
      "|               45| (76,[65],[1.0])|\n",
      "|               50| (76,[66],[1.0])|\n",
      "|               63| (76,[67],[1.0])|\n",
      "|               57| (76,[68],[1.0])|\n",
      "|               65| (76,[69],[1.0])|\n",
      "|               18| (76,[70],[1.0])|\n",
      "|               62| (76,[71],[1.0])|\n",
      "|               54| (76,[72],[1.0])|\n",
      "|               74| (76,[73],[1.0])|\n",
      "|               47| (76,[74],[1.0])|\n",
      "|               52| (76,[75],[1.0])|\n",
      "+-----------------+----------------+\n",
      "\n"
     ]
    }
   ],
   "source": [
    "#76-151, 77=The Loop, 78=Near West Side, 81=O'Hare, 87=Garfield Ridge, 91=Irving park, 101=Norwood Park, 134=Brighton Park\n",
    "encodedTaxi.select('dropoff_comm_area','dropoff_comm_Vec').distinct().sort('dropoff_comm_Vec').show(100)"
   ]
  },
  {
   "cell_type": "code",
   "execution_count": 55,
   "metadata": {},
   "outputs": [
    {
     "name": "stdout",
     "output_type": "stream",
     "text": [
      "+-------+---------------+\n",
      "|hourbin|       hour_Vec|\n",
      "+-------+---------------+\n",
      "|      2|     (11,[],[])|\n",
      "|      8| (11,[0],[1.0])|\n",
      "|      9| (11,[1],[1.0])|\n",
      "|      7| (11,[2],[1.0])|\n",
      "|      6| (11,[3],[1.0])|\n",
      "|      5| (11,[4],[1.0])|\n",
      "|      4| (11,[5],[1.0])|\n",
      "|     10| (11,[6],[1.0])|\n",
      "|     11| (11,[7],[1.0])|\n",
      "|      3| (11,[8],[1.0])|\n",
      "|      0| (11,[9],[1.0])|\n",
      "|      1|(11,[10],[1.0])|\n",
      "+-------+---------------+\n",
      "\n"
     ]
    }
   ],
   "source": [
    "#152-162 - \n",
    "encodedTaxi.select('hourbin','hour_Vec').distinct().sort('hour_Vec').show(100)"
   ]
  },
  {
   "cell_type": "code",
   "execution_count": 56,
   "metadata": {},
   "outputs": [
    {
     "name": "stdout",
     "output_type": "stream",
     "text": [
      "+---------+-------------+\n",
      "| week_day|      day_Vec|\n",
      "+---------+-------------+\n",
      "|   Sunday|    (6,[],[])|\n",
      "| Thursday|(6,[0],[1.0])|\n",
      "|   Friday|(6,[1],[1.0])|\n",
      "|Wednesday|(6,[2],[1.0])|\n",
      "|  Tuesday|(6,[3],[1.0])|\n",
      "|   Monday|(6,[4],[1.0])|\n",
      "| Saturday|(6,[5],[1.0])|\n",
      "+---------+-------------+\n",
      "\n"
     ]
    }
   ],
   "source": [
    "#163-168 \n",
    "encodedTaxi.select('week_day','day_Vec').distinct().sort('day_Vec').show(100)"
   ]
  },
  {
   "cell_type": "code",
   "execution_count": 57,
   "metadata": {},
   "outputs": [
    {
     "name": "stdout",
     "output_type": "stream",
     "text": [
      "+----+-------------+\n",
      "|year|     year_Vec|\n",
      "+----+-------------+\n",
      "|2020|    (2,[],[])|\n",
      "|2019|(2,[0],[1.0])|\n",
      "|2018|(2,[1],[1.0])|\n",
      "+----+-------------+\n",
      "\n"
     ]
    }
   ],
   "source": [
    "#169,170\n",
    "encodedTaxi.select('year','year_Vec').distinct().sort('year_Vec').show(100)"
   ]
  },
  {
   "cell_type": "code",
   "execution_count": 58,
   "metadata": {},
   "outputs": [
    {
     "name": "stdout",
     "output_type": "stream",
     "text": [
      "+-----+---------------+\n",
      "|month|      month_Vec|\n",
      "+-----+---------------+\n",
      "|    7|     (11,[],[])|\n",
      "|   11| (11,[0],[1.0])|\n",
      "|   12| (11,[1],[1.0])|\n",
      "|    2| (11,[2],[1.0])|\n",
      "|    1| (11,[3],[1.0])|\n",
      "|    3| (11,[4],[1.0])|\n",
      "|    5| (11,[5],[1.0])|\n",
      "|    6| (11,[6],[1.0])|\n",
      "|   10| (11,[7],[1.0])|\n",
      "|    8| (11,[8],[1.0])|\n",
      "|    9| (11,[9],[1.0])|\n",
      "|    4|(11,[10],[1.0])|\n",
      "+-----+---------------+\n",
      "\n"
     ]
    }
   ],
   "source": [
    "#171-181\n",
    "encodedTaxi.select('month','month_Vec').distinct().sort('month_Vec').show(100)"
   ]
  },
  {
   "cell_type": "code",
   "execution_count": 59,
   "metadata": {},
   "outputs": [],
   "source": [
    "from pyspark.ml.classification import RandomForestClassifier\n",
    "from pyspark.ml.regression import RandomForestRegressor\n",
    "from pyspark.ml.evaluation import RegressionEvaluator\n",
    "from pyspark.ml.regression import GBTRegressor\n",
    "\n",
    "\n",
    "gbt = GBTRegressor(maxDepth=5, labelCol=\"fare\", predictionCol=\"prediction\")\n",
    "\n",
    "gbt_taxi = gbt.fit(taxi_train)\n",
    "\n",
    "gbt_taxi_predictions = gbt_taxi.transform(taxi_test)\n"
   ]
  },
  {
   "cell_type": "code",
   "execution_count": 60,
   "metadata": {},
   "outputs": [
    {
     "data": {
      "text/plain": [
       "58.49310794570708"
      ]
     },
     "execution_count": 60,
     "metadata": {},
     "output_type": "execute_result"
    }
   ],
   "source": [
    "evaluator = RegressionEvaluator(\n",
    "    labelCol=\"fare\", predictionCol=\"prediction\", metricName=\"rmse\")\n",
    "\n",
    "rmse = evaluator.evaluate(gbt_taxi_predictions)\n",
    "rmse"
   ]
  },
  {
   "cell_type": "code",
   "execution_count": 62,
   "metadata": {},
   "outputs": [],
   "source": [
    "all_holdout=rideshare_holdout.union(taxi_holdout)\n",
    "holdout_fares=all_holdout.select('fare')\n",
    "holdout_x=all_holdout.drop('fare')\n",
    "taxi_lm_holdout_predictions=lr_taxi.transform(holdout_x)\n",
    "rideshare_lm_holdout_predictions=lrm.transform(holdout_x)"
   ]
  },
  {
   "cell_type": "code",
   "execution_count": 64,
   "metadata": {},
   "outputs": [
    {
     "name": "stdout",
     "output_type": "stream",
     "text": [
      "+-----------------+\n",
      "|       prediction|\n",
      "+-----------------+\n",
      "| 4.15834397063148|\n",
      "| 4.15834397063148|\n",
      "| 4.15834397063148|\n",
      "|4.619251233549561|\n",
      "|4.315598220273964|\n",
      "|4.315598220273964|\n",
      "| 4.15834397063148|\n",
      "| 4.15834397063148|\n",
      "| 4.15834397063148|\n",
      "| 4.15834397063148|\n",
      "|4.315598220273964|\n",
      "| 4.15834397063148|\n",
      "| 4.15834397063148|\n",
      "| 4.15834397063148|\n",
      "|4.315598220273964|\n",
      "| 4.15834397063148|\n",
      "| 4.15834397063148|\n",
      "| 4.15834397063148|\n",
      "| 4.15834397063148|\n",
      "| 4.15834397063148|\n",
      "+-----------------+\n",
      "only showing top 20 rows\n",
      "\n"
     ]
    }
   ],
   "source": [
    "rideshare_lm_holdout_predictions.select('prediction').show()"
   ]
  },
  {
   "cell_type": "code",
   "execution_count": 65,
   "metadata": {},
   "outputs": [
    {
     "name": "stdout",
     "output_type": "stream",
     "text": [
      "+------------------+\n",
      "|        prediction|\n",
      "+------------------+\n",
      "| 8.445981483184378|\n",
      "| 8.445981483184378|\n",
      "| 8.445981483184378|\n",
      "|19.013147756200972|\n",
      "|15.992223263135603|\n",
      "|15.992223263135603|\n",
      "|7.0871074701747405|\n",
      "| 7.051299136731755|\n",
      "| 7.051299136731755|\n",
      "| 7.051299136731755|\n",
      "| 7.051299136731755|\n",
      "| 7.051299136731755|\n",
      "| 7.051299136731755|\n",
      "| 7.051299136731755|\n",
      "| 7.051299136731755|\n",
      "| 7.051299136731755|\n",
      "| 8.445981483184378|\n",
      "| 7.381113696156647|\n",
      "| 8.445981483184378|\n",
      "| 8.445981483184378|\n",
      "+------------------+\n",
      "only showing top 20 rows\n",
      "\n"
     ]
    }
   ],
   "source": [
    "taxi_lm_holdout_predictions.select('prediction').show()"
   ]
  },
  {
   "cell_type": "code",
   "execution_count": null,
   "metadata": {},
   "outputs": [],
   "source": []
  }
 ],
 "metadata": {
  "kernelspec": {
   "display_name": "pySpark",
   "language": "python",
   "name": "pyspark"
  },
  "language_info": {
   "codemirror_mode": {
    "name": "ipython",
    "version": 3
   },
   "file_extension": ".py",
   "mimetype": "text/x-python",
   "name": "python",
   "nbconvert_exporter": "python",
   "pygments_lexer": "ipython3",
   "version": "3.6.8"
  }
 },
 "nbformat": 4,
 "nbformat_minor": 2
}
